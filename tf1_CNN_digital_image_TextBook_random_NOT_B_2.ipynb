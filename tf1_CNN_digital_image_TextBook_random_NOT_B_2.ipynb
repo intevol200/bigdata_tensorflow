{
 "cells": [
  {
   "cell_type": "code",
   "execution_count": 2,
   "metadata": {},
   "outputs": [],
   "source": [
    "import numpy as np"
   ]
  },
  {
   "cell_type": "code",
   "execution_count": 3,
   "metadata": {},
   "outputs": [],
   "source": [
    "import matplotlib.pyplot as plt"
   ]
  },
  {
   "cell_type": "code",
   "execution_count": 4,
   "metadata": {},
   "outputs": [
    {
     "name": "stderr",
     "output_type": "stream",
     "text": [
      "C:\\Users\\Kwangsam\\anaconda3\\envs\\python36\\lib\\site-packages\\tensorflow\\python\\framework\\dtypes.py:523: FutureWarning: Passing (type, 1) or '1type' as a synonym of type is deprecated; in a future version of numpy, it will be understood as (type, (1,)) / '(1,)type'.\n",
      "  _np_qint8 = np.dtype([(\"qint8\", np.int8, 1)])\n",
      "C:\\Users\\Kwangsam\\anaconda3\\envs\\python36\\lib\\site-packages\\tensorflow\\python\\framework\\dtypes.py:524: FutureWarning: Passing (type, 1) or '1type' as a synonym of type is deprecated; in a future version of numpy, it will be understood as (type, (1,)) / '(1,)type'.\n",
      "  _np_quint8 = np.dtype([(\"quint8\", np.uint8, 1)])\n",
      "C:\\Users\\Kwangsam\\anaconda3\\envs\\python36\\lib\\site-packages\\tensorflow\\python\\framework\\dtypes.py:525: FutureWarning: Passing (type, 1) or '1type' as a synonym of type is deprecated; in a future version of numpy, it will be understood as (type, (1,)) / '(1,)type'.\n",
      "  _np_qint16 = np.dtype([(\"qint16\", np.int16, 1)])\n",
      "C:\\Users\\Kwangsam\\anaconda3\\envs\\python36\\lib\\site-packages\\tensorflow\\python\\framework\\dtypes.py:526: FutureWarning: Passing (type, 1) or '1type' as a synonym of type is deprecated; in a future version of numpy, it will be understood as (type, (1,)) / '(1,)type'.\n",
      "  _np_quint16 = np.dtype([(\"quint16\", np.uint16, 1)])\n",
      "C:\\Users\\Kwangsam\\anaconda3\\envs\\python36\\lib\\site-packages\\tensorflow\\python\\framework\\dtypes.py:527: FutureWarning: Passing (type, 1) or '1type' as a synonym of type is deprecated; in a future version of numpy, it will be understood as (type, (1,)) / '(1,)type'.\n",
      "  _np_qint32 = np.dtype([(\"qint32\", np.int32, 1)])\n",
      "C:\\Users\\Kwangsam\\anaconda3\\envs\\python36\\lib\\site-packages\\tensorflow\\python\\framework\\dtypes.py:532: FutureWarning: Passing (type, 1) or '1type' as a synonym of type is deprecated; in a future version of numpy, it will be understood as (type, (1,)) / '(1,)type'.\n",
      "  np_resource = np.dtype([(\"resource\", np.ubyte, 1)])\n"
     ]
    }
   ],
   "source": [
    "import tensorflow as tf"
   ]
  },
  {
   "cell_type": "code",
   "execution_count": 5,
   "metadata": {},
   "outputs": [
    {
     "data": {
      "text/plain": [
       "'1.9.0'"
      ]
     },
     "execution_count": 5,
     "metadata": {},
     "output_type": "execute_result"
    }
   ],
   "source": [
    "tf.__version__"
   ]
  },
  {
   "cell_type": "code",
   "execution_count": 6,
   "metadata": {},
   "outputs": [],
   "source": [
    "from tensorflow.examples.tutorials.mnist import input_data"
   ]
  },
  {
   "cell_type": "code",
   "execution_count": 7,
   "metadata": {},
   "outputs": [
    {
     "name": "stdout",
     "output_type": "stream",
     "text": [
      "WARNING:tensorflow:From <ipython-input-7-1a516c502833>:1: read_data_sets (from tensorflow.contrib.learn.python.learn.datasets.mnist) is deprecated and will be removed in a future version.\n",
      "Instructions for updating:\n",
      "Please use alternatives such as official/mnist/dataset.py from tensorflow/models.\n",
      "WARNING:tensorflow:From C:\\Users\\Kwangsam\\anaconda3\\envs\\python36\\lib\\site-packages\\tensorflow\\contrib\\learn\\python\\learn\\datasets\\mnist.py:260: maybe_download (from tensorflow.contrib.learn.python.learn.datasets.base) is deprecated and will be removed in a future version.\n",
      "Instructions for updating:\n",
      "Please write your own downloading logic.\n",
      "WARNING:tensorflow:From C:\\Users\\Kwangsam\\anaconda3\\envs\\python36\\lib\\site-packages\\tensorflow\\contrib\\learn\\python\\learn\\datasets\\mnist.py:262: extract_images (from tensorflow.contrib.learn.python.learn.datasets.mnist) is deprecated and will be removed in a future version.\n",
      "Instructions for updating:\n",
      "Please use tf.data to implement this functionality.\n",
      "Extracting MNIST_data/train-images-idx3-ubyte.gz\n",
      "WARNING:tensorflow:From C:\\Users\\Kwangsam\\anaconda3\\envs\\python36\\lib\\site-packages\\tensorflow\\contrib\\learn\\python\\learn\\datasets\\mnist.py:267: extract_labels (from tensorflow.contrib.learn.python.learn.datasets.mnist) is deprecated and will be removed in a future version.\n",
      "Instructions for updating:\n",
      "Please use tf.data to implement this functionality.\n",
      "Extracting MNIST_data/train-labels-idx1-ubyte.gz\n",
      "WARNING:tensorflow:From C:\\Users\\Kwangsam\\anaconda3\\envs\\python36\\lib\\site-packages\\tensorflow\\contrib\\learn\\python\\learn\\datasets\\mnist.py:110: dense_to_one_hot (from tensorflow.contrib.learn.python.learn.datasets.mnist) is deprecated and will be removed in a future version.\n",
      "Instructions for updating:\n",
      "Please use tf.one_hot on tensors.\n",
      "Extracting MNIST_data/t10k-images-idx3-ubyte.gz\n",
      "Extracting MNIST_data/t10k-labels-idx1-ubyte.gz\n",
      "WARNING:tensorflow:From C:\\Users\\Kwangsam\\anaconda3\\envs\\python36\\lib\\site-packages\\tensorflow\\contrib\\learn\\python\\learn\\datasets\\mnist.py:290: DataSet.__init__ (from tensorflow.contrib.learn.python.learn.datasets.mnist) is deprecated and will be removed in a future version.\n",
      "Instructions for updating:\n",
      "Please use alternatives such as official/mnist/dataset.py from tensorflow/models.\n"
     ]
    }
   ],
   "source": [
    "mnist = input_data.read_data_sets(\"MNIST_data/\", one_hot = True)"
   ]
  },
  {
   "cell_type": "code",
   "execution_count": 8,
   "metadata": {},
   "outputs": [],
   "source": [
    "x_train, y_train = mnist.train.images, mnist.train.labels"
   ]
  },
  {
   "cell_type": "code",
   "execution_count": 9,
   "metadata": {},
   "outputs": [],
   "source": [
    "x_test, y_test = mnist.test.images, mnist.test.labels"
   ]
  },
  {
   "cell_type": "code",
   "execution_count": 10,
   "metadata": {},
   "outputs": [
    {
     "data": {
      "text/plain": [
       "array([0.        , 0.        , 0.        , 0.        , 0.        ,\n",
       "       0.        , 0.        , 0.        , 0.        , 0.        ,\n",
       "       0.        , 0.        , 0.        , 0.        , 0.        ,\n",
       "       0.        , 0.        , 0.        , 0.        , 0.        ,\n",
       "       0.        , 0.        , 0.        , 0.        , 0.        ,\n",
       "       0.        , 0.        , 0.        , 0.        , 0.        ,\n",
       "       0.        , 0.        , 0.        , 0.        , 0.        ,\n",
       "       0.        , 0.        , 0.        , 0.        , 0.        ,\n",
       "       0.        , 0.        , 0.        , 0.        , 0.        ,\n",
       "       0.        , 0.        , 0.        , 0.        , 0.        ,\n",
       "       0.        , 0.        , 0.        , 0.        , 0.        ,\n",
       "       0.        , 0.        , 0.        , 0.        , 0.        ,\n",
       "       0.        , 0.        , 0.        , 0.        , 0.        ,\n",
       "       0.        , 0.        , 0.        , 0.        , 0.        ,\n",
       "       0.        , 0.        , 0.        , 0.        , 0.        ,\n",
       "       0.        , 0.        , 0.        , 0.        , 0.        ,\n",
       "       0.        , 0.        , 0.        , 0.        , 0.        ,\n",
       "       0.        , 0.        , 0.        , 0.        , 0.        ,\n",
       "       0.        , 0.        , 0.        , 0.        , 0.        ,\n",
       "       0.        , 0.        , 0.        , 0.        , 0.        ,\n",
       "       0.        , 0.        , 0.        , 0.        , 0.        ,\n",
       "       0.        , 0.        , 0.        , 0.        , 0.        ,\n",
       "       0.        , 0.        , 0.        , 0.        , 0.        ,\n",
       "       0.        , 0.        , 0.        , 0.        , 0.        ,\n",
       "       0.        , 0.        , 0.        , 0.        , 0.        ,\n",
       "       0.        , 0.        , 0.        , 0.        , 0.        ,\n",
       "       0.        , 0.        , 0.        , 0.        , 0.        ,\n",
       "       0.        , 0.        , 0.        , 0.        , 0.        ,\n",
       "       0.        , 0.        , 0.        , 0.        , 0.        ,\n",
       "       0.        , 0.        , 0.        , 0.        , 0.        ,\n",
       "       0.        , 0.        , 0.        , 0.        , 0.        ,\n",
       "       0.        , 0.        , 0.        , 0.        , 0.        ,\n",
       "       0.        , 0.        , 0.        , 0.        , 0.        ,\n",
       "       0.        , 0.        , 0.        , 0.        , 0.        ,\n",
       "       0.        , 0.        , 0.        , 0.        , 0.        ,\n",
       "       0.        , 0.        , 0.        , 0.        , 0.        ,\n",
       "       0.        , 0.        , 0.        , 0.        , 0.        ,\n",
       "       0.        , 0.        , 0.        , 0.        , 0.        ,\n",
       "       0.        , 0.        , 0.        , 0.        , 0.        ,\n",
       "       0.        , 0.        , 0.        , 0.        , 0.        ,\n",
       "       0.        , 0.        , 0.        , 0.        , 0.        ,\n",
       "       0.        , 0.        , 0.3803922 , 0.37647063, 0.3019608 ,\n",
       "       0.46274513, 0.2392157 , 0.        , 0.        , 0.        ,\n",
       "       0.        , 0.        , 0.        , 0.        , 0.        ,\n",
       "       0.        , 0.        , 0.        , 0.        , 0.        ,\n",
       "       0.        , 0.        , 0.3529412 , 0.5411765 , 0.9215687 ,\n",
       "       0.9215687 , 0.9215687 , 0.9215687 , 0.9215687 , 0.9215687 ,\n",
       "       0.9843138 , 0.9843138 , 0.9725491 , 0.9960785 , 0.9607844 ,\n",
       "       0.9215687 , 0.74509805, 0.08235294, 0.        , 0.        ,\n",
       "       0.        , 0.        , 0.        , 0.        , 0.        ,\n",
       "       0.        , 0.        , 0.        , 0.        , 0.54901963,\n",
       "       0.9843138 , 0.9960785 , 0.9960785 , 0.9960785 , 0.9960785 ,\n",
       "       0.9960785 , 0.9960785 , 0.9960785 , 0.9960785 , 0.9960785 ,\n",
       "       0.9960785 , 0.9960785 , 0.9960785 , 0.9960785 , 0.9960785 ,\n",
       "       0.7411765 , 0.09019608, 0.        , 0.        , 0.        ,\n",
       "       0.        , 0.        , 0.        , 0.        , 0.        ,\n",
       "       0.        , 0.        , 0.8862746 , 0.9960785 , 0.81568635,\n",
       "       0.7803922 , 0.7803922 , 0.7803922 , 0.7803922 , 0.54509807,\n",
       "       0.2392157 , 0.2392157 , 0.2392157 , 0.2392157 , 0.2392157 ,\n",
       "       0.5019608 , 0.8705883 , 0.9960785 , 0.9960785 , 0.7411765 ,\n",
       "       0.08235294, 0.        , 0.        , 0.        , 0.        ,\n",
       "       0.        , 0.        , 0.        , 0.        , 0.        ,\n",
       "       0.14901961, 0.32156864, 0.0509804 , 0.        , 0.        ,\n",
       "       0.        , 0.        , 0.        , 0.        , 0.        ,\n",
       "       0.        , 0.        , 0.        , 0.        , 0.13333334,\n",
       "       0.8352942 , 0.9960785 , 0.9960785 , 0.45098042, 0.        ,\n",
       "       0.        , 0.        , 0.        , 0.        , 0.        ,\n",
       "       0.        , 0.        , 0.        , 0.        , 0.        ,\n",
       "       0.        , 0.        , 0.        , 0.        , 0.        ,\n",
       "       0.        , 0.        , 0.        , 0.        , 0.        ,\n",
       "       0.        , 0.        , 0.        , 0.32941177, 0.9960785 ,\n",
       "       0.9960785 , 0.9176471 , 0.        , 0.        , 0.        ,\n",
       "       0.        , 0.        , 0.        , 0.        , 0.        ,\n",
       "       0.        , 0.        , 0.        , 0.        , 0.        ,\n",
       "       0.        , 0.        , 0.        , 0.        , 0.        ,\n",
       "       0.        , 0.        , 0.        , 0.        , 0.        ,\n",
       "       0.        , 0.32941177, 0.9960785 , 0.9960785 , 0.9176471 ,\n",
       "       0.        , 0.        , 0.        , 0.        , 0.        ,\n",
       "       0.        , 0.        , 0.        , 0.        , 0.        ,\n",
       "       0.        , 0.        , 0.        , 0.        , 0.        ,\n",
       "       0.        , 0.        , 0.        , 0.        , 0.        ,\n",
       "       0.        , 0.        , 0.        , 0.4156863 , 0.6156863 ,\n",
       "       0.9960785 , 0.9960785 , 0.95294124, 0.20000002, 0.        ,\n",
       "       0.        , 0.        , 0.        , 0.        , 0.        ,\n",
       "       0.        , 0.        , 0.        , 0.        , 0.        ,\n",
       "       0.        , 0.        , 0.        , 0.        , 0.        ,\n",
       "       0.        , 0.09803922, 0.45882356, 0.8941177 , 0.8941177 ,\n",
       "       0.8941177 , 0.9921569 , 0.9960785 , 0.9960785 , 0.9960785 ,\n",
       "       0.9960785 , 0.94117653, 0.        , 0.        , 0.        ,\n",
       "       0.        , 0.        , 0.        , 0.        , 0.        ,\n",
       "       0.        , 0.        , 0.        , 0.        , 0.        ,\n",
       "       0.        , 0.        , 0.26666668, 0.4666667 , 0.86274517,\n",
       "       0.9960785 , 0.9960785 , 0.9960785 , 0.9960785 , 0.9960785 ,\n",
       "       0.9960785 , 0.9960785 , 0.9960785 , 0.9960785 , 0.5568628 ,\n",
       "       0.        , 0.        , 0.        , 0.        , 0.        ,\n",
       "       0.        , 0.        , 0.        , 0.        , 0.        ,\n",
       "       0.        , 0.        , 0.        , 0.14509805, 0.73333335,\n",
       "       0.9921569 , 0.9960785 , 0.9960785 , 0.9960785 , 0.8745099 ,\n",
       "       0.8078432 , 0.8078432 , 0.29411766, 0.26666668, 0.8431373 ,\n",
       "       0.9960785 , 0.9960785 , 0.45882356, 0.        , 0.        ,\n",
       "       0.        , 0.        , 0.        , 0.        , 0.        ,\n",
       "       0.        , 0.        , 0.        , 0.        , 0.        ,\n",
       "       0.4431373 , 0.8588236 , 0.9960785 , 0.9490197 , 0.89019614,\n",
       "       0.45098042, 0.34901962, 0.12156864, 0.        , 0.        ,\n",
       "       0.        , 0.        , 0.7843138 , 0.9960785 , 0.9450981 ,\n",
       "       0.16078432, 0.        , 0.        , 0.        , 0.        ,\n",
       "       0.        , 0.        , 0.        , 0.        , 0.        ,\n",
       "       0.        , 0.        , 0.        , 0.6627451 , 0.9960785 ,\n",
       "       0.6901961 , 0.24313727, 0.        , 0.        , 0.        ,\n",
       "       0.        , 0.        , 0.        , 0.        , 0.18823531,\n",
       "       0.9058824 , 0.9960785 , 0.9176471 , 0.        , 0.        ,\n",
       "       0.        , 0.        , 0.        , 0.        , 0.        ,\n",
       "       0.        , 0.        , 0.        , 0.        , 0.        ,\n",
       "       0.        , 0.07058824, 0.48627454, 0.        , 0.        ,\n",
       "       0.        , 0.        , 0.        , 0.        , 0.        ,\n",
       "       0.        , 0.        , 0.32941177, 0.9960785 , 0.9960785 ,\n",
       "       0.6509804 , 0.        , 0.        , 0.        , 0.        ,\n",
       "       0.        , 0.        , 0.        , 0.        , 0.        ,\n",
       "       0.        , 0.        , 0.        , 0.        , 0.        ,\n",
       "       0.        , 0.        , 0.        , 0.        , 0.        ,\n",
       "       0.        , 0.        , 0.        , 0.        , 0.        ,\n",
       "       0.54509807, 0.9960785 , 0.9333334 , 0.22352943, 0.        ,\n",
       "       0.        , 0.        , 0.        , 0.        , 0.        ,\n",
       "       0.        , 0.        , 0.        , 0.        , 0.        ,\n",
       "       0.        , 0.        , 0.        , 0.        , 0.        ,\n",
       "       0.        , 0.        , 0.        , 0.        , 0.        ,\n",
       "       0.        , 0.        , 0.8235295 , 0.9803922 , 0.9960785 ,\n",
       "       0.65882355, 0.        , 0.        , 0.        , 0.        ,\n",
       "       0.        , 0.        , 0.        , 0.        , 0.        ,\n",
       "       0.        , 0.        , 0.        , 0.        , 0.        ,\n",
       "       0.        , 0.        , 0.        , 0.        , 0.        ,\n",
       "       0.        , 0.        , 0.        , 0.        , 0.        ,\n",
       "       0.9490197 , 0.9960785 , 0.93725497, 0.22352943, 0.        ,\n",
       "       0.        , 0.        , 0.        , 0.        , 0.        ,\n",
       "       0.        , 0.        , 0.        , 0.        , 0.        ,\n",
       "       0.        , 0.        , 0.        , 0.        , 0.        ,\n",
       "       0.        , 0.        , 0.        , 0.        , 0.        ,\n",
       "       0.        , 0.        , 0.34901962, 0.9843138 , 0.9450981 ,\n",
       "       0.3372549 , 0.        , 0.        , 0.        , 0.        ,\n",
       "       0.        , 0.        , 0.        , 0.        , 0.        ,\n",
       "       0.        , 0.        , 0.        , 0.        , 0.        ,\n",
       "       0.        , 0.        , 0.        , 0.        , 0.        ,\n",
       "       0.        , 0.        , 0.        , 0.        , 0.01960784,\n",
       "       0.8078432 , 0.96470594, 0.6156863 , 0.        , 0.        ,\n",
       "       0.        , 0.        , 0.        , 0.        , 0.        ,\n",
       "       0.        , 0.        , 0.        , 0.        , 0.        ,\n",
       "       0.        , 0.        , 0.        , 0.        , 0.        ,\n",
       "       0.        , 0.        , 0.        , 0.        , 0.        ,\n",
       "       0.        , 0.        , 0.01568628, 0.45882356, 0.27058825,\n",
       "       0.        , 0.        , 0.        , 0.        , 0.        ,\n",
       "       0.        , 0.        , 0.        , 0.        , 0.        ,\n",
       "       0.        , 0.        , 0.        , 0.        , 0.        ,\n",
       "       0.        , 0.        , 0.        , 0.        , 0.        ,\n",
       "       0.        , 0.        , 0.        , 0.        , 0.        ,\n",
       "       0.        , 0.        , 0.        , 0.        , 0.        ,\n",
       "       0.        , 0.        , 0.        , 0.        , 0.        ,\n",
       "       0.        , 0.        , 0.        , 0.        ], dtype=float32)"
      ]
     },
     "execution_count": 10,
     "metadata": {},
     "output_type": "execute_result"
    }
   ],
   "source": [
    "x_train[0]"
   ]
  },
  {
   "cell_type": "code",
   "execution_count": 11,
   "metadata": {},
   "outputs": [
    {
     "data": {
      "text/plain": [
       "<matplotlib.image.AxesImage at 0x2030003a4e0>"
      ]
     },
     "execution_count": 11,
     "metadata": {},
     "output_type": "execute_result"
    },
    {
     "data": {
      "image/png": "[encoded data removed]",
      "text/plain": [
       "<Figure size 432x288 with 1 Axes>"
      ]
     },
     "metadata": {
      "needs_background": "light"
     },
     "output_type": "display_data"
    }
   ],
   "source": [
    "plt.imshow(x_train.reshape(-1, 28, 28)[0])"
   ]
  },
  {
   "cell_type": "code",
   "execution_count": 12,
   "metadata": {},
   "outputs": [
    {
     "data": {
      "text/plain": [
       "array([0., 0., 0., 0., 0., 0., 0., 1., 0., 0.])"
      ]
     },
     "execution_count": 12,
     "metadata": {},
     "output_type": "execute_result"
    }
   ],
   "source": [
    "y_train[0]"
   ]
  },
  {
   "cell_type": "code",
   "execution_count": 13,
   "metadata": {},
   "outputs": [
    {
     "data": {
      "text/plain": [
       "<matplotlib.image.AxesImage at 0x20300118160>"
      ]
     },
     "execution_count": 13,
     "metadata": {},
     "output_type": "execute_result"
    },
    {
     "data": {
      "image/png": "[encoded data removed]",
      "text/plain": [
       "<Figure size 432x288 with 1 Axes>"
      ]
     },
     "metadata": {
      "needs_background": "light"
     },
     "output_type": "display_data"
    }
   ],
   "source": [
    "plt.imshow(x_test.reshape(-1, 28, 28)[1])"
   ]
  },
  {
   "cell_type": "code",
   "execution_count": 14,
   "metadata": {},
   "outputs": [
    {
     "data": {
      "text/plain": [
       "array([0., 0., 1., 0., 0., 0., 0., 0., 0., 0.])"
      ]
     },
     "execution_count": 14,
     "metadata": {},
     "output_type": "execute_result"
    }
   ],
   "source": [
    "y_test[1]"
   ]
  },
  {
   "cell_type": "markdown",
   "metadata": {},
   "source": [
    "## Build input variables"
   ]
  },
  {
   "cell_type": "code",
   "execution_count": 15,
   "metadata": {},
   "outputs": [],
   "source": [
    "X = tf.placeholder(tf.float32, shape=[None, 784])"
   ]
  },
  {
   "cell_type": "code",
   "execution_count": 16,
   "metadata": {},
   "outputs": [],
   "source": [
    "Y = tf.placeholder(tf.float32, shape=[None, 10])"
   ]
  },
  {
   "cell_type": "markdown",
   "metadata": {},
   "source": [
    "## Input Layer"
   ]
  },
  {
   "cell_type": "code",
   "execution_count": 17,
   "metadata": {},
   "outputs": [],
   "source": [
    "x_image = tf.reshape(tensor=X, shape=[-1, 28, 28, 1])"
   ]
  },
  {
   "cell_type": "markdown",
   "metadata": {},
   "source": [
    "## Convolutional Layer 1"
   ]
  },
  {
   "cell_type": "code",
   "execution_count": 18,
   "metadata": {},
   "outputs": [],
   "source": [
    "kernel_size = 5\n",
    "pool_size = 2"
   ]
  },
  {
   "cell_type": "code",
   "execution_count": 19,
   "metadata": {},
   "outputs": [],
   "source": [
    "W_conv1 = tf.Variable(tf.truncated_normal([kernel_size, kernel_size, 1, 32], stddev=0.1))"
   ]
  },
  {
   "cell_type": "code",
   "execution_count": 20,
   "metadata": {},
   "outputs": [],
   "source": [
    "h_conv1_in = tf.nn.conv2d(x_image, W_conv1, strides=[1, 1, 1, 1], padding='SAME')"
   ]
  },
  {
   "cell_type": "code",
   "execution_count": 21,
   "metadata": {},
   "outputs": [],
   "source": [
    "h_conv1_out = tf.nn.relu(h_conv1_in)"
   ]
  },
  {
   "cell_type": "code",
   "execution_count": 22,
   "metadata": {},
   "outputs": [],
   "source": [
    "h_pool_1 = tf.nn.max_pool(h_conv1_out, ksize=[1, 2, 2, 1], strides=[1, 2, 2, 1], padding='SAME')"
   ]
  },
  {
   "cell_type": "markdown",
   "metadata": {},
   "source": [
    "## Convolutional Layer 2"
   ]
  },
  {
   "cell_type": "code",
   "execution_count": 23,
   "metadata": {},
   "outputs": [],
   "source": [
    "W_conv2 = tf.Variable(tf.truncated_normal([kernel_size, kernel_size, 32, 64], stddev=0.1))\n",
    "b_conv2 = tf.Variable(tf.constant(0.1, shape=[64]))"
   ]
  },
  {
   "cell_type": "code",
   "execution_count": 24,
   "metadata": {},
   "outputs": [],
   "source": [
    "h_conv2_in = tf.nn.conv2d(h_pool_1, W_conv2, strides=[1, 1, 1, 1], padding='SAME')"
   ]
  },
  {
   "cell_type": "code",
   "execution_count": 25,
   "metadata": {},
   "outputs": [],
   "source": [
    "h_conv2_out = tf.nn.relu(h_conv2_in)"
   ]
  },
  {
   "cell_type": "code",
   "execution_count": 26,
   "metadata": {},
   "outputs": [],
   "source": [
    "h_pool_2 = tf.nn.max_pool(h_conv2_out, ksize=[1, 2, 2, 1], strides=[1, 2, 2, 1], padding='SAME')"
   ]
  },
  {
   "cell_type": "markdown",
   "metadata": {},
   "source": [
    "## Dense Layer: convert to a Flat 1 Dimmensional array"
   ]
  },
  {
   "cell_type": "code",
   "execution_count": 27,
   "metadata": {},
   "outputs": [],
   "source": [
    "h_pool_2_flat = tf.reshape(h_pool_2, [-1, 7*7*64])"
   ]
  },
  {
   "cell_type": "code",
   "execution_count": 28,
   "metadata": {},
   "outputs": [],
   "source": [
    "W_fc1 = tf.Variable(tf.truncated_normal([7*7*64, 1024], stddev=0.1))\n",
    "b_fc1 = tf.Variable(tf.constant(0.1, shape=[1024]))"
   ]
  },
  {
   "cell_type": "code",
   "execution_count": 29,
   "metadata": {},
   "outputs": [],
   "source": [
    "h_fc1_in = tf.add(tf.matmul(h_pool_2_flat, W_fc1), b_fc1)"
   ]
  },
  {
   "cell_type": "code",
   "execution_count": 30,
   "metadata": {},
   "outputs": [],
   "source": [
    "h_fc1_out = tf.nn.relu(h_fc1_in)"
   ]
  },
  {
   "cell_type": "markdown",
   "metadata": {},
   "source": [
    "## Logit Layer"
   ]
  },
  {
   "cell_type": "code",
   "execution_count": 31,
   "metadata": {},
   "outputs": [],
   "source": [
    "W_fc2 = tf.Variable(tf.truncated_normal([1024, 10], stddev=0.1))\n",
    "b_fc2 = tf.Variable(tf.constant(0.1, shape=[10]))"
   ]
  },
  {
   "cell_type": "code",
   "execution_count": 32,
   "metadata": {},
   "outputs": [],
   "source": [
    "h_fc2_in = tf.add(tf.matmul(h_fc1_out, W_fc2), b_fc2)"
   ]
  },
  {
   "cell_type": "code",
   "execution_count": 33,
   "metadata": {},
   "outputs": [],
   "source": [
    "y_estimated = tf.nn.softmax(h_fc2_in)"
   ]
  },
  {
   "cell_type": "code",
   "execution_count": 34,
   "metadata": {},
   "outputs": [],
   "source": [
    "guess = tf.argmax(y_estimated, 1)"
   ]
  },
  {
   "cell_type": "markdown",
   "metadata": {},
   "source": [
    "## loss function"
   ]
  },
  {
   "cell_type": "code",
   "execution_count": 35,
   "metadata": {},
   "outputs": [],
   "source": [
    "cost = tf.reduce_mean(tf.nn.softmax_cross_entropy_with_logits_v2(labels=Y, logits=y_estimated))"
   ]
  },
  {
   "cell_type": "code",
   "execution_count": 36,
   "metadata": {},
   "outputs": [],
   "source": [
    "learning_rate = 0.0001\n",
    "training_epoch = 3000\n",
    "batch_size = 128\n",
    "display_step = 100"
   ]
  },
  {
   "cell_type": "markdown",
   "metadata": {},
   "source": [
    "## Optimizer"
   ]
  },
  {
   "cell_type": "code",
   "execution_count": 37,
   "metadata": {},
   "outputs": [],
   "source": [
    "optimizer = tf.train.AdamOptimizer(learning_rate=learning_rate)\n",
    "model = optimizer.minimize(cost)"
   ]
  },
  {
   "cell_type": "code",
   "execution_count": 42,
   "metadata": {},
   "outputs": [],
   "source": [
    "sess = tf.Session()"
   ]
  },
  {
   "cell_type": "code",
   "execution_count": 43,
   "metadata": {},
   "outputs": [],
   "source": [
    "init = tf.global_variables_initializer()"
   ]
  },
  {
   "cell_type": "code",
   "execution_count": 44,
   "metadata": {},
   "outputs": [],
   "source": [
    "sess.run(init)"
   ]
  },
  {
   "cell_type": "code",
   "execution_count": 47,
   "metadata": {},
   "outputs": [
    {
     "name": "stdout",
     "output_type": "stream",
     "text": [
      "epoch =  0 accuracy =  0.5625 cost =  1.890423\n",
      "epoch =  100 accuracy =  0.6953125 cost =  1.7737389\n",
      "epoch =  200 accuracy =  0.78125 cost =  1.6921226\n",
      "epoch =  300 accuracy =  0.7890625 cost =  1.6756344\n",
      "epoch =  400 accuracy =  0.734375 cost =  1.7311655\n",
      "epoch =  500 accuracy =  0.828125 cost =  1.6339122\n",
      "epoch =  600 accuracy =  0.7265625 cost =  1.7384586\n",
      "epoch =  700 accuracy =  0.796875 cost =  1.6621962\n",
      "epoch =  800 accuracy =  0.7578125 cost =  1.6979134\n",
      "epoch =  900 accuracy =  0.8359375 cost =  1.6280994\n",
      "epoch =  1000 accuracy =  0.828125 cost =  1.6305851\n",
      "epoch =  1100 accuracy =  0.7578125 cost =  1.6961023\n",
      "epoch =  1200 accuracy =  0.765625 cost =  1.7000849\n",
      "epoch =  1300 accuracy =  0.75 cost =  1.7088434\n",
      "epoch =  1400 accuracy =  0.8203125 cost =  1.6409553\n",
      "epoch =  1500 accuracy =  0.765625 cost =  1.6981004\n",
      "epoch =  1600 accuracy =  0.8984375 cost =  1.5644464\n",
      "epoch =  1700 accuracy =  0.9296875 cost =  1.5314074\n",
      "epoch =  1800 accuracy =  0.8515625 cost =  1.615311\n",
      "epoch =  1900 accuracy =  0.875 cost =  1.5797353\n",
      "epoch =  2000 accuracy =  0.890625 cost =  1.5672731\n",
      "epoch =  2100 accuracy =  0.8828125 cost =  1.5762355\n",
      "epoch =  2200 accuracy =  0.921875 cost =  1.53744\n",
      "epoch =  2300 accuracy =  0.921875 cost =  1.5444341\n",
      "epoch =  2400 accuracy =  0.875 cost =  1.5912703\n",
      "epoch =  2500 accuracy =  0.875 cost =  1.5829821\n",
      "epoch =  2600 accuracy =  0.875 cost =  1.5842184\n",
      "epoch =  2700 accuracy =  0.921875 cost =  1.5361314\n",
      "epoch =  2800 accuracy =  1.0 cost =  1.4738345\n",
      "epoch =  2900 accuracy =  0.9921875 cost =  1.470504\n",
      "epoch =  3000 accuracy =  0.9921875 cost =  1.4715152\n"
     ]
    }
   ],
   "source": [
    "for step in range(training_epoch):\n",
    "    x_data, y_data = mnist.train.next_batch(batch_size)\n",
    "    sess.run(model, feed_dict={X: x_data, Y: y_data})\n",
    "    correct_prediction = tf.equal(tf.argmax(Y, 1), tf.argmax(y_estimated, 1))\n",
    "    accuracy = tf.reduce_mean(tf.cast(correct_prediction, tf.float32))\n",
    "    if step % display_step == 0:\n",
    "        print(\"epoch = \", step, \"accuracy = \", sess.run(accuracy, feed_dict={X: x_data, Y: y_data}), \n",
    "                \"cost = \", sess.run(cost, feed_dict={X: x_data, Y: y_data}))\n",
    "\n",
    "print(\"epoch = \", step+1, \"accuracy = \", sess.run(accuracy, feed_dict={X: x_data, Y: y_data}),\n",
    "         \"cost = \", sess.run(cost, feed_dict={X: x_data, Y: y_data}))"
   ]
  },
  {
   "cell_type": "code",
   "execution_count": 48,
   "metadata": {},
   "outputs": [
    {
     "name": "stdout",
     "output_type": "stream",
     "text": [
      "accuracy =  0.9858 cost =  1.4773892\n"
     ]
    }
   ],
   "source": [
    "print(\"accuracy = \", sess.run(accuracy, feed_dict={X: x_test, Y: y_test}),\n",
    "         \"cost = \", sess.run(cost, feed_dict={X: x_test, Y: y_test}))"
   ]
  },
  {
   "cell_type": "code",
   "execution_count": 49,
   "metadata": {},
   "outputs": [],
   "source": [
    "y_out = sess.run(y_estimated, feed_dict={X: x_test, Y: y_test})\n",
    "guess_out = sess.run(guess, feed_dict={X: x_test, Y: y_test})"
   ]
  },
  {
   "cell_type": "code",
   "execution_count": 50,
   "metadata": {},
   "outputs": [
    {
     "data": {
      "text/plain": [
       "array([[0., 0., 0., 0., 0., 0., 0., 1., 0., 0.],\n",
       "       [0., 0., 1., 0., 0., 0., 0., 0., 0., 0.],\n",
       "       [0., 1., 0., 0., 0., 0., 0., 0., 0., 0.],\n",
       "       [1., 0., 0., 0., 0., 0., 0., 0., 0., 0.],\n",
       "       [0., 0., 0., 0., 1., 0., 0., 0., 0., 0.],\n",
       "       [0., 1., 0., 0., 0., 0., 0., 0., 0., 0.],\n",
       "       [0., 0., 0., 0., 1., 0., 0., 0., 0., 0.],\n",
       "       [0., 0., 0., 0., 0., 0., 0., 0., 0., 1.],\n",
       "       [0., 0., 0., 0., 0., 1., 0., 0., 0., 0.],\n",
       "       [0., 0., 0., 0., 0., 0., 0., 0., 0., 1.],\n",
       "       [1., 0., 0., 0., 0., 0., 0., 0., 0., 0.],\n",
       "       [0., 0., 0., 0., 0., 0., 1., 0., 0., 0.],\n",
       "       [0., 0., 0., 0., 0., 0., 0., 0., 0., 1.],\n",
       "       [1., 0., 0., 0., 0., 0., 0., 0., 0., 0.],\n",
       "       [0., 1., 0., 0., 0., 0., 0., 0., 0., 0.],\n",
       "       [0., 0., 0., 0., 0., 1., 0., 0., 0., 0.],\n",
       "       [0., 0., 0., 0., 0., 0., 0., 0., 0., 1.],\n",
       "       [0., 0., 0., 0., 0., 0., 0., 1., 0., 0.],\n",
       "       [0., 0., 0., 1., 0., 0., 0., 0., 0., 0.],\n",
       "       [0., 0., 0., 0., 1., 0., 0., 0., 0., 0.],\n",
       "       [0., 0., 0., 0., 0., 0., 0., 0., 0., 1.],\n",
       "       [0., 0., 0., 0., 0., 0., 1., 0., 0., 0.],\n",
       "       [0., 0., 0., 0., 0., 0., 1., 0., 0., 0.],\n",
       "       [0., 0., 0., 0., 0., 1., 0., 0., 0., 0.],\n",
       "       [0., 0., 0., 0., 1., 0., 0., 0., 0., 0.],\n",
       "       [1., 0., 0., 0., 0., 0., 0., 0., 0., 0.],\n",
       "       [0., 0., 0., 0., 0., 0., 0., 1., 0., 0.],\n",
       "       [0., 0., 0., 0., 1., 0., 0., 0., 0., 0.],\n",
       "       [1., 0., 0., 0., 0., 0., 0., 0., 0., 0.],\n",
       "       [0., 1., 0., 0., 0., 0., 0., 0., 0., 0.],\n",
       "       [0., 0., 0., 1., 0., 0., 0., 0., 0., 0.],\n",
       "       [0., 1., 0., 0., 0., 0., 0., 0., 0., 0.],\n",
       "       [0., 0., 0., 1., 0., 0., 0., 0., 0., 0.],\n",
       "       [0., 0., 0., 0., 1., 0., 0., 0., 0., 0.],\n",
       "       [0., 0., 0., 0., 0., 0., 0., 1., 0., 0.],\n",
       "       [0., 0., 1., 0., 0., 0., 0., 0., 0., 0.],\n",
       "       [0., 0., 0., 0., 0., 0., 0., 1., 0., 0.],\n",
       "       [0., 1., 0., 0., 0., 0., 0., 0., 0., 0.],\n",
       "       [0., 0., 1., 0., 0., 0., 0., 0., 0., 0.],\n",
       "       [0., 1., 0., 0., 0., 0., 0., 0., 0., 0.],\n",
       "       [0., 1., 0., 0., 0., 0., 0., 0., 0., 0.],\n",
       "       [0., 0., 0., 0., 0., 0., 0., 1., 0., 0.],\n",
       "       [0., 0., 0., 0., 1., 0., 0., 0., 0., 0.],\n",
       "       [0., 0., 1., 0., 0., 0., 0., 0., 0., 0.],\n",
       "       [0., 0., 0., 1., 0., 0., 0., 0., 0., 0.],\n",
       "       [0., 0., 0., 0., 0., 1., 0., 0., 0., 0.],\n",
       "       [0., 1., 0., 0., 0., 0., 0., 0., 0., 0.],\n",
       "       [0., 0., 1., 0., 0., 0., 0., 0., 0., 0.],\n",
       "       [0., 0., 0., 0., 1., 0., 0., 0., 0., 0.],\n",
       "       [0., 0., 0., 0., 1., 0., 0., 0., 0., 0.],\n",
       "       [0., 0., 0., 0., 0., 0., 1., 0., 0., 0.],\n",
       "       [0., 0., 0., 1., 0., 0., 0., 0., 0., 0.],\n",
       "       [0., 0., 0., 0., 0., 1., 0., 0., 0., 0.],\n",
       "       [0., 0., 0., 0., 0., 1., 0., 0., 0., 0.],\n",
       "       [0., 0., 0., 0., 0., 0., 1., 0., 0., 0.],\n",
       "       [1., 0., 0., 0., 0., 0., 0., 0., 0., 0.],\n",
       "       [0., 0., 0., 0., 1., 0., 0., 0., 0., 0.],\n",
       "       [0., 1., 0., 0., 0., 0., 0., 0., 0., 0.],\n",
       "       [0., 0., 0., 0., 0., 0., 0., 0., 0., 1.],\n",
       "       [0., 0., 0., 0., 0., 1., 0., 0., 0., 0.],\n",
       "       [0., 0., 0., 0., 0., 0., 0., 1., 0., 0.],\n",
       "       [0., 0., 0., 0., 0., 0., 0., 0., 1., 0.],\n",
       "       [0., 0., 0., 0., 0., 0., 0., 0., 0., 1.],\n",
       "       [0., 0., 0., 1., 0., 0., 0., 0., 0., 0.],\n",
       "       [0., 0., 0., 0., 0., 0., 0., 1., 0., 0.],\n",
       "       [0., 0., 0., 0., 1., 0., 0., 0., 0., 0.],\n",
       "       [0., 0., 0., 0., 0., 0., 1., 0., 0., 0.],\n",
       "       [0., 0., 0., 0., 1., 0., 0., 0., 0., 0.],\n",
       "       [0., 0., 0., 1., 0., 0., 0., 0., 0., 0.],\n",
       "       [1., 0., 0., 0., 0., 0., 0., 0., 0., 0.],\n",
       "       [0., 0., 0., 0., 0., 0., 0., 1., 0., 0.],\n",
       "       [1., 0., 0., 0., 0., 0., 0., 0., 0., 0.],\n",
       "       [0., 0., 1., 0., 0., 0., 0., 0., 0., 0.],\n",
       "       [0., 0., 0., 0., 0., 0., 0., 0., 0., 1.],\n",
       "       [0., 1., 0., 0., 0., 0., 0., 0., 0., 0.],\n",
       "       [0., 0., 0., 0., 0., 0., 0., 1., 0., 0.],\n",
       "       [0., 0., 0., 1., 0., 0., 0., 0., 0., 0.],\n",
       "       [0., 0., 1., 0., 0., 0., 0., 0., 0., 0.],\n",
       "       [0., 0., 0., 0., 0., 0., 0., 0., 0., 1.],\n",
       "       [0., 0., 0., 0., 0., 0., 0., 1., 0., 0.],\n",
       "       [0., 0., 0., 0., 0., 0., 0., 1., 0., 0.],\n",
       "       [0., 0., 0., 0., 0., 0., 1., 0., 0., 0.],\n",
       "       [0., 0., 1., 0., 0., 0., 0., 0., 0., 0.],\n",
       "       [0., 0., 0., 0., 0., 0., 0., 1., 0., 0.],\n",
       "       [0., 0., 0., 0., 0., 0., 0., 0., 1., 0.],\n",
       "       [0., 0., 0., 0., 1., 0., 0., 0., 0., 0.],\n",
       "       [0., 0., 0., 0., 0., 0., 0., 1., 0., 0.],\n",
       "       [0., 0., 0., 1., 0., 0., 0., 0., 0., 0.],\n",
       "       [0., 0., 0., 0., 0., 0., 1., 0., 0., 0.],\n",
       "       [0., 1., 0., 0., 0., 0., 0., 0., 0., 0.],\n",
       "       [0., 0., 0., 1., 0., 0., 0., 0., 0., 0.],\n",
       "       [0., 0., 0., 0., 0., 0., 1., 0., 0., 0.],\n",
       "       [0., 0., 0., 0., 0., 0., 0., 0., 0., 1.],\n",
       "       [0., 0., 0., 1., 0., 0., 0., 0., 0., 0.],\n",
       "       [0., 1., 0., 0., 0., 0., 0., 0., 0., 0.],\n",
       "       [0., 0., 0., 0., 1., 0., 0., 0., 0., 0.],\n",
       "       [0., 1., 0., 0., 0., 0., 0., 0., 0., 0.],\n",
       "       [0., 0., 0., 0., 0., 0., 0., 1., 0., 0.],\n",
       "       [0., 0., 0., 0., 0., 0., 1., 0., 0., 0.],\n",
       "       [0., 0., 0., 0., 0., 0., 0., 0., 0., 1.]])"
      ]
     },
     "execution_count": 50,
     "metadata": {},
     "output_type": "execute_result"
    }
   ],
   "source": [
    "y_test[:100]"
   ]
  },
  {
   "cell_type": "code",
   "execution_count": 51,
   "metadata": {},
   "outputs": [
    {
     "data": {
      "text/plain": [
       "array([[1.70057978e-12, 6.34265047e-13, 1.23179843e-11, 1.68642811e-09,\n",
       "        5.94215864e-18, 2.43693209e-14, 2.44818845e-21, 1.00000000e+00,\n",
       "        2.48675893e-15, 3.21975710e-11],\n",
       "       [3.49828305e-10, 1.04840203e-09, 1.00000000e+00, 3.05011044e-10,\n",
       "        3.98715931e-16, 5.72836100e-16, 5.65560480e-11, 1.22231471e-19,\n",
       "        5.46366737e-11, 5.31648574e-19],\n",
       "       [6.10418283e-06, 9.99942064e-01, 1.55638179e-06, 1.34664660e-07,\n",
       "        3.71002134e-05, 7.39693178e-08, 3.59362502e-06, 8.67783729e-06,\n",
       "        7.62013883e-07, 7.48219353e-09],\n",
       "       [1.00000000e+00, 1.19647714e-09, 3.26417005e-09, 9.43123246e-10,\n",
       "        7.21952845e-11, 4.38503989e-08, 1.09247822e-09, 2.79723222e-09,\n",
       "        1.02448406e-11, 7.66436470e-10],\n",
       "       [2.55677413e-09, 5.98535735e-11, 1.04041558e-13, 2.71395428e-12,\n",
       "        9.99999762e-01, 5.29159615e-12, 6.76910947e-13, 6.34338471e-10,\n",
       "        2.11294347e-13, 2.02339109e-07],\n",
       "       [1.75094920e-06, 9.99986172e-01, 8.41833696e-08, 3.63893129e-08,\n",
       "        1.79731603e-06, 1.16967680e-09, 5.92700644e-08, 9.92392870e-06,\n",
       "        2.20611653e-07, 1.37983636e-09],\n",
       "       [8.15930795e-11, 1.22493617e-07, 3.28257248e-11, 2.40841391e-09,\n",
       "        9.99868393e-01, 2.42184761e-08, 5.33602551e-10, 1.47781151e-07,\n",
       "        1.30273416e-04, 1.04783794e-06],\n",
       "       [9.32656441e-09, 4.23041957e-09, 4.13134238e-09, 4.62395337e-06,\n",
       "        4.94678943e-06, 4.11736565e-08, 2.19229652e-11, 3.00454522e-10,\n",
       "        4.45974047e-06, 9.99985933e-01],\n",
       "       [2.05303788e-10, 4.51438068e-16, 2.58179311e-11, 1.79317372e-09,\n",
       "        1.04300145e-11, 9.99986291e-01, 1.36186882e-05, 4.85612527e-13,\n",
       "        5.60566704e-10, 1.34152614e-07],\n",
       "       [6.98882108e-09, 4.70013351e-13, 1.45032998e-12, 3.77022431e-08,\n",
       "        1.21553940e-08, 2.07673722e-12, 9.67334390e-16, 3.02938076e-07,\n",
       "        1.41618683e-09, 9.99999642e-01],\n",
       "       [1.00000000e+00, 3.43806512e-08, 2.81096835e-08, 1.98363304e-09,\n",
       "        2.94564144e-14, 4.31907381e-08, 6.31655561e-11, 1.37781397e-10,\n",
       "        1.39708439e-10, 1.88584917e-08],\n",
       "       [3.50612827e-05, 3.76371867e-09, 1.68264031e-11, 4.66241889e-12,\n",
       "        1.96648080e-12, 1.04299662e-08, 9.99964952e-01, 2.88337956e-15,\n",
       "        4.21355111e-08, 1.96781556e-13],\n",
       "       [2.03384101e-08, 6.94942259e-13, 2.30243667e-13, 2.02633896e-06,\n",
       "        1.41484873e-06, 6.08655748e-09, 4.12234469e-14, 2.45342812e-06,\n",
       "        1.28742617e-08, 9.99994040e-01],\n",
       "       [1.00000000e+00, 1.41330133e-11, 2.85942270e-10, 8.92854124e-11,\n",
       "        4.31044659e-13, 2.22668287e-10, 1.37541341e-11, 1.00507087e-08,\n",
       "        6.92213994e-11, 5.71599390e-09],\n",
       "       [2.14991630e-07, 9.99992490e-01, 1.70270520e-09, 6.78741708e-06,\n",
       "        8.40031333e-08, 2.80751111e-09, 7.67806529e-09, 1.25200228e-09,\n",
       "        3.52178773e-07, 2.90794444e-10],\n",
       "       [3.39721480e-11, 8.61170801e-10, 7.48230891e-14, 1.75549303e-06,\n",
       "        9.31759072e-17, 9.99998212e-01, 3.63151414e-12, 7.58016019e-14,\n",
       "        2.27335004e-08, 4.11265497e-14],\n",
       "       [2.84283068e-08, 2.87513259e-13, 7.58921398e-12, 6.34764241e-09,\n",
       "        8.24787719e-07, 1.74068177e-10, 2.47445581e-14, 2.94273661e-07,\n",
       "        6.13356088e-10, 9.99998808e-01],\n",
       "       [2.76199445e-11, 7.09872767e-14, 1.30426642e-10, 1.47270427e-07,\n",
       "        3.04556760e-19, 2.31865156e-12, 2.35862474e-21, 9.99999881e-01,\n",
       "        5.00530926e-17, 1.02959872e-11],\n",
       "       [1.69726590e-07, 7.99056554e-09, 1.51108182e-07, 9.93623197e-01,\n",
       "        8.05774947e-10, 9.93944821e-04, 9.61977094e-08, 4.04560607e-10,\n",
       "        5.38233388e-03, 8.62031158e-08],\n",
       "       [2.25361785e-10, 1.44801018e-10, 3.34010516e-13, 6.60332553e-11,\n",
       "        1.00000000e+00, 7.26906701e-10, 3.27059479e-13, 3.04021057e-08,\n",
       "        1.75409534e-10, 1.23511223e-09],\n",
       "       [1.41801479e-07, 8.25698065e-10, 2.55541335e-12, 6.55758777e-06,\n",
       "        7.50553045e-06, 1.42187528e-09, 8.94228522e-15, 9.72184498e-05,\n",
       "        3.21956728e-09, 9.99888539e-01],\n",
       "       [7.10194854e-08, 9.77227739e-14, 1.08567036e-11, 8.32494185e-10,\n",
       "        9.91702942e-10, 6.17116923e-04, 9.99382615e-01, 3.53573342e-15,\n",
       "        1.13590716e-07, 2.33139766e-12],\n",
       "       [5.96332370e-07, 2.22193108e-09, 1.21142202e-11, 1.57376941e-11,\n",
       "        4.93083840e-09, 7.18461202e-09, 9.99999404e-01, 1.73128595e-10,\n",
       "        7.27901384e-09, 9.72631559e-11],\n",
       "       [5.97191741e-10, 5.70863811e-17, 1.68996897e-14, 3.34080652e-09,\n",
       "        6.30413690e-14, 1.00000000e+00, 1.49284612e-11, 5.90062143e-17,\n",
       "        7.43715148e-13, 3.97563232e-12],\n",
       "       [8.00760069e-10, 1.00526742e-09, 7.37339911e-11, 7.17760712e-11,\n",
       "        9.99999642e-01, 6.65765976e-09, 1.79243998e-11, 3.93819192e-07,\n",
       "        1.98998637e-10, 2.79269070e-08],\n",
       "       [1.00000000e+00, 9.33094747e-13, 2.59139599e-10, 4.28453887e-12,\n",
       "        1.43022269e-11, 7.86135805e-13, 6.59464749e-09, 1.62475020e-10,\n",
       "        7.93316940e-11, 2.68533018e-09],\n",
       "       [2.34782593e-09, 1.06621234e-09, 1.72785377e-08, 2.09177961e-05,\n",
       "        1.11441650e-12, 4.99571406e-09, 3.69645799e-18, 9.99950051e-01,\n",
       "        2.32816999e-12, 2.89677391e-05],\n",
       "       [5.58621346e-13, 4.46168235e-14, 8.86606327e-17, 2.56161059e-14,\n",
       "        1.00000000e+00, 2.74889513e-13, 4.88755586e-16, 2.09734985e-12,\n",
       "        2.93523068e-15, 1.07068798e-09],\n",
       "       [9.99999762e-01, 5.18244780e-10, 1.21693432e-07, 6.83285748e-08,\n",
       "        8.51038464e-14, 1.28007809e-08, 1.13699645e-13, 6.15581452e-09,\n",
       "        5.38848188e-10, 5.59283064e-10],\n",
       "       [2.00329310e-07, 9.99985099e-01, 1.04371725e-06, 5.65213259e-06,\n",
       "        6.75342676e-07, 7.64475345e-08, 6.99365321e-09, 5.09065821e-08,\n",
       "        7.13195550e-06, 2.31458781e-08],\n",
       "       [2.39996369e-12, 4.65366644e-14, 3.39950371e-14, 1.00000000e+00,\n",
       "        7.16357702e-15, 1.20007393e-10, 1.54306550e-19, 3.22876491e-12,\n",
       "        5.11166955e-13, 2.54594235e-09],\n",
       "       [3.10145401e-06, 9.99959946e-01, 3.56117289e-06, 8.58112890e-06,\n",
       "        1.54448389e-05, 3.02635556e-07, 5.29693711e-09, 2.48960828e-06,\n",
       "        5.52391657e-06, 9.57323778e-07],\n",
       "       [1.43287251e-13, 1.32079536e-12, 7.54345642e-13, 1.00000000e+00,\n",
       "        2.21254777e-13, 1.52935387e-10, 2.75333403e-17, 8.28105420e-14,\n",
       "        3.94507205e-11, 6.75753030e-12],\n",
       "       [1.60055744e-04, 7.02898319e-07, 1.31126834e-08, 5.15176833e-12,\n",
       "        9.99838829e-01, 3.91409714e-08, 3.91495774e-07, 2.73873840e-10,\n",
       "        1.63398409e-11, 3.40132852e-11],\n",
       "       [8.22558032e-14, 9.02143269e-13, 6.36278009e-12, 4.56576643e-09,\n",
       "        1.55245549e-16, 5.07862691e-17, 8.70225831e-21, 1.00000000e+00,\n",
       "        3.13257775e-13, 3.24977594e-13],\n",
       "       [6.60784405e-12, 7.42938582e-08, 9.99999881e-01, 3.70935993e-08,\n",
       "        1.65231461e-17, 2.16204428e-13, 5.94674171e-17, 1.56211188e-12,\n",
       "        5.73414092e-13, 3.99969446e-13],\n",
       "       [3.04248471e-09, 6.62639249e-11, 1.83777083e-04, 1.59728079e-05,\n",
       "        3.17512926e-15, 4.92470593e-13, 6.25684908e-17, 9.99800265e-01,\n",
       "        3.34241732e-11, 1.00706415e-10],\n",
       "       [6.23897876e-08, 9.99996662e-01, 5.17939291e-08, 6.90550849e-07,\n",
       "        1.05256174e-06, 5.28755173e-09, 4.44644632e-09, 1.71767653e-07,\n",
       "        1.29844057e-06, 7.41118544e-09],\n",
       "       [8.44995043e-08, 3.07882324e-08, 9.99995947e-01, 3.90519608e-06,\n",
       "        3.05793802e-14, 5.14680486e-11, 1.89736959e-11, 2.46087838e-11,\n",
       "        1.75142212e-08, 2.77852319e-14],\n",
       "       [3.20336562e-06, 9.99991894e-01, 4.42174048e-08, 1.09266068e-06,\n",
       "        9.48917261e-07, 7.48433260e-10, 2.52453447e-07, 1.13390819e-07,\n",
       "        2.53935673e-06, 1.98740779e-09],\n",
       "       [2.00636823e-05, 9.99761283e-01, 2.89372274e-05, 5.55017250e-05,\n",
       "        1.91683575e-05, 4.46971171e-07, 4.12015652e-06, 3.51086419e-05,\n",
       "        6.96400602e-05, 5.56210807e-06],\n",
       "       [5.57089530e-09, 2.52296739e-09, 4.33994246e-05, 2.05904784e-04,\n",
       "        1.46501106e-12, 8.21726541e-12, 1.48083038e-16, 9.99750674e-01,\n",
       "        1.36485632e-11, 1.81523330e-09],\n",
       "       [2.22278107e-09, 7.75477726e-09, 1.80895558e-14, 1.91039851e-09,\n",
       "        9.99998569e-01, 4.93788604e-12, 7.96926002e-13, 1.66036020e-08,\n",
       "        4.79141438e-09, 1.43279635e-06],\n",
       "       [2.25715713e-09, 1.83077038e-08, 9.99997020e-01, 1.10777000e-06,\n",
       "        1.92501852e-06, 8.35436165e-09, 1.15257528e-08, 5.19206955e-10,\n",
       "        1.81430391e-08, 3.15125964e-13],\n",
       "       [2.56159723e-07, 2.10972928e-08, 3.71063334e-06, 9.99993086e-01,\n",
       "        8.05548128e-10, 2.56617818e-06, 5.19510301e-09, 4.73983164e-09,\n",
       "        1.81788621e-07, 9.87596849e-08],\n",
       "       [5.28045518e-08, 5.87816525e-13, 1.67708729e-12, 2.51300236e-07,\n",
       "        2.71155169e-13, 9.99999642e-01, 7.56896046e-10, 3.26225939e-12,\n",
       "        3.17071986e-08, 3.03841663e-09],\n",
       "       [5.67302401e-08, 9.99939919e-01, 6.16783655e-06, 1.13061969e-05,\n",
       "        1.14029751e-06, 4.41609949e-08, 4.54368460e-10, 2.44096121e-08,\n",
       "        4.12927802e-05, 6.86798671e-08],\n",
       "       [7.01004012e-12, 4.63009631e-11, 1.00000000e+00, 4.76775230e-10,\n",
       "        1.74535636e-12, 3.49911682e-14, 1.07380424e-10, 2.58862566e-13,\n",
       "        1.39510847e-10, 7.58664594e-16],\n",
       "       [7.59412810e-10, 1.23525044e-11, 7.34061715e-17, 8.23715193e-11,\n",
       "        9.99969959e-01, 1.59763147e-10, 8.71843813e-15, 1.24007873e-10,\n",
       "        9.70000524e-10, 3.00557949e-05],\n",
       "       [6.53996440e-11, 7.22734318e-14, 1.65724018e-15, 1.31824768e-13,\n",
       "        1.00000000e+00, 2.02931140e-12, 1.60485123e-13, 2.57212099e-11,\n",
       "        2.20325581e-11, 2.17100897e-08],\n",
       "       [5.38592540e-05, 2.20505531e-10, 3.71913111e-10, 1.16802763e-08,\n",
       "        7.22413240e-09, 5.66308609e-06, 9.99940395e-01, 1.29757262e-12,\n",
       "        2.40129849e-09, 4.96295019e-12],\n",
       "       [5.12382026e-10, 9.85083976e-13, 2.20649280e-12, 1.00000000e+00,\n",
       "        1.43101388e-15, 2.74235329e-10, 3.63707080e-17, 3.12732587e-12,\n",
       "        8.92538310e-09, 1.91854033e-13],\n",
       "       [7.60854768e-10, 1.91083670e-14, 6.34862999e-16, 3.72280653e-07,\n",
       "        2.48888301e-12, 9.99999642e-01, 8.73042437e-12, 4.93013155e-14,\n",
       "        2.47111619e-12, 2.39035319e-10],\n",
       "       [2.80473333e-09, 9.64533675e-10, 3.20708521e-13, 3.38988025e-06,\n",
       "        2.23139150e-12, 9.99996305e-01, 8.59718408e-10, 1.13211328e-12,\n",
       "        3.82402732e-07, 7.63522801e-10],\n",
       "       [2.14105844e-09, 3.02932224e-12, 2.08748001e-16, 1.12628396e-14,\n",
       "        3.52706849e-16, 2.98547326e-10, 1.00000000e+00, 7.85821582e-19,\n",
       "        1.85808877e-12, 4.05843429e-18],\n",
       "       [9.99999762e-01, 3.83520149e-09, 3.82126437e-08, 3.11818543e-10,\n",
       "        2.22943070e-11, 5.12060749e-09, 1.71768655e-09, 3.85125126e-11,\n",
       "        2.81343659e-07, 1.26989225e-10],\n",
       "       [1.77013189e-12, 3.48153662e-13, 4.49058355e-17, 8.65289207e-16,\n",
       "        1.00000000e+00, 3.11549007e-12, 6.20528460e-15, 1.08958250e-11,\n",
       "        2.25553015e-15, 1.25439908e-10],\n",
       "       [4.11118117e-06, 9.99924660e-01, 2.87901776e-06, 6.01913769e-07,\n",
       "        1.40686025e-05, 2.43440867e-09, 1.74331973e-07, 5.14572748e-05,\n",
       "        2.15960199e-06, 2.18981686e-08],\n",
       "       [3.35302230e-10, 3.14510008e-14, 4.17269843e-13, 1.38983310e-07,\n",
       "        8.70590000e-08, 1.35075784e-09, 1.69248631e-16, 3.63284371e-08,\n",
       "        2.39969741e-12, 9.99999762e-01],\n",
       "       [5.39477618e-08, 1.55989083e-10, 1.94436616e-13, 8.26105122e-08,\n",
       "        3.15670295e-10, 9.99998927e-01, 2.50766408e-09, 5.60855369e-07,\n",
       "        9.26848855e-08, 1.91904917e-07],\n",
       "       [1.82650162e-11, 5.72078463e-13, 1.86350853e-13, 2.23001571e-05,\n",
       "        4.03082068e-17, 8.56654581e-10, 1.06432124e-21, 9.99977708e-01,\n",
       "        9.47952370e-16, 6.78822165e-10],\n",
       "       [1.14398324e-06, 1.21741701e-13, 4.38277530e-05, 1.10719957e-04,\n",
       "        9.53579338e-13, 1.23245030e-07, 1.39761114e-09, 1.07196836e-12,\n",
       "        9.99840498e-01, 3.69124223e-06],\n",
       "       [9.02909687e-06, 5.81668580e-09, 6.98129199e-08, 7.70801398e-06,\n",
       "        1.24444114e-06, 2.28339806e-02, 3.83156078e-07, 4.36469156e-04,\n",
       "        1.45787362e-03, 9.75253284e-01],\n",
       "       [2.71257115e-08, 3.24352025e-12, 7.08511623e-04, 9.99285996e-01,\n",
       "        1.31014579e-12, 8.86013651e-10, 7.26148587e-16, 5.67964398e-10,\n",
       "        1.01784110e-06, 4.41978682e-06],\n",
       "       [6.41248190e-14, 5.90605496e-15, 2.04361528e-10, 2.69467968e-08,\n",
       "        3.78772372e-13, 1.51598397e-16, 4.78790607e-23, 1.00000000e+00,\n",
       "        1.40767259e-12, 5.82841154e-12],\n",
       "       [3.35937727e-07, 1.33548710e-07, 5.91051319e-10, 2.36281153e-06,\n",
       "        9.99054968e-01, 1.03518153e-06, 3.80590864e-10, 1.26396219e-06,\n",
       "        4.66847013e-07, 9.39364661e-04],\n",
       "       [2.09686099e-04, 6.08216578e-06, 3.52361562e-09, 8.90836915e-09,\n",
       "        2.82229653e-08, 1.08198350e-07, 9.99783814e-01, 3.65694985e-09,\n",
       "        6.13595716e-08, 1.54408369e-07],\n",
       "       [1.16834570e-10, 5.64096714e-10, 1.04814595e-13, 2.13794493e-09,\n",
       "        9.99998093e-01, 7.53573559e-09, 1.52653422e-12, 1.27246755e-10,\n",
       "        2.47205659e-11, 1.93691289e-06],\n",
       "       [4.56994989e-12, 8.18027015e-14, 1.73647311e-13, 1.00000000e+00,\n",
       "        1.98869191e-15, 7.05029785e-11, 4.35518961e-20, 3.10311325e-12,\n",
       "        3.89708821e-11, 1.74549125e-10],\n",
       "       [1.00000000e+00, 1.15835954e-08, 4.54704413e-10, 1.52115665e-09,\n",
       "        5.32540710e-15, 2.82661761e-09, 3.88060339e-09, 1.22519959e-08,\n",
       "        2.08036149e-12, 4.31443858e-08],\n",
       "       [4.04062166e-11, 2.73231931e-13, 3.72273767e-10, 1.03341762e-07,\n",
       "        1.76059629e-19, 1.42423833e-12, 1.19884669e-19, 9.99999881e-01,\n",
       "        1.53744474e-16, 1.73472778e-10],\n",
       "       [1.00000000e+00, 1.18787216e-10, 6.64107866e-11, 6.02855005e-12,\n",
       "        1.53231077e-15, 7.19619780e-11, 5.23048965e-11, 5.41885113e-12,\n",
       "        7.66607860e-13, 1.63561498e-09],\n",
       "       [5.23589208e-08, 1.25217758e-09, 9.99998927e-01, 1.12067085e-06,\n",
       "        3.68740309e-16, 1.12775050e-11, 2.58929078e-16, 4.99047026e-10,\n",
       "        4.72282098e-13, 2.64594098e-12],\n",
       "       [4.28687781e-06, 1.59746122e-07, 1.37174709e-07, 3.46166998e-05,\n",
       "        3.34351489e-06, 3.07324610e-09, 9.55472612e-14, 1.08834449e-03,\n",
       "        1.14286819e-03, 9.97726262e-01],\n",
       "       [8.65300294e-08, 9.99997258e-01, 3.39442169e-10, 1.60884444e-08,\n",
       "        2.68089252e-06, 1.60277613e-09, 6.30295771e-09, 1.66092491e-08,\n",
       "        3.85244476e-08, 8.38595360e-10],\n",
       "       [7.89641247e-13, 1.92867402e-12, 7.36083156e-12, 5.53968960e-07,\n",
       "        1.61519073e-12, 2.07577423e-12, 1.37320047e-18, 9.99999404e-01,\n",
       "        3.69074736e-12, 1.92541014e-12],\n",
       "       [1.72065384e-09, 2.23126503e-10, 7.31639541e-11, 9.99999642e-01,\n",
       "        3.69175523e-12, 6.70788367e-08, 6.21534277e-14, 1.63128280e-14,\n",
       "        3.81955161e-08, 2.18611774e-07],\n",
       "       [2.03337542e-08, 9.34928224e-08, 9.99999762e-01, 5.85805404e-09,\n",
       "        1.58153096e-14, 6.09069739e-11, 1.39474424e-13, 8.53809894e-08,\n",
       "        7.65467745e-10, 5.71822811e-09],\n",
       "       [2.84926246e-05, 1.39711096e-06, 3.76380882e-08, 1.07389431e-04,\n",
       "        8.19707697e-04, 6.38487796e-09, 1.08052962e-08, 7.63398532e-07,\n",
       "        4.86989990e-02, 9.50343192e-01],\n",
       "       [9.21284021e-11, 5.25314445e-11, 2.41597298e-09, 1.48119213e-07,\n",
       "        2.34731559e-13, 1.84812370e-13, 1.77561013e-19, 9.99999881e-01,\n",
       "        9.47124237e-12, 3.25426832e-08],\n",
       "       [1.34307800e-08, 4.33398317e-10, 5.32431044e-12, 7.15629556e-09,\n",
       "        6.03226567e-07, 5.01373378e-08, 1.26482255e-16, 9.99809682e-01,\n",
       "        1.01861047e-10, 1.89672981e-04],\n",
       "       [2.89626478e-04, 6.05861195e-10, 3.83650045e-09, 1.14930652e-08,\n",
       "        1.12785703e-09, 5.22484834e-06, 9.99705136e-01, 1.79706527e-09,\n",
       "        2.28611685e-09, 7.89294186e-10],\n",
       "       [2.28688121e-14, 1.68285893e-12, 1.00000000e+00, 2.39155692e-11,\n",
       "        1.38049814e-16, 1.04905330e-18, 2.26728345e-19, 8.40713133e-14,\n",
       "        4.05938290e-16, 1.62769034e-18],\n",
       "       [1.45539206e-10, 6.99964565e-12, 1.20979719e-11, 1.39331691e-09,\n",
       "        9.66458250e-13, 2.46671069e-11, 5.68743953e-19, 1.00000000e+00,\n",
       "        9.50842934e-14, 1.27990258e-08],\n",
       "       [3.47119056e-10, 2.15618657e-14, 9.15214692e-12, 3.92042978e-07,\n",
       "        1.51650648e-09, 6.27513153e-09, 1.15153238e-08, 1.02679248e-14,\n",
       "        9.99999642e-01, 7.43977047e-10],\n",
       "       [4.41287215e-11, 3.45544843e-11, 5.75101953e-17, 1.08403271e-12,\n",
       "        1.00000000e+00, 1.37505589e-12, 7.19029752e-15, 8.49735837e-11,\n",
       "        2.08174779e-11, 2.43500686e-08],\n",
       "       [6.65560749e-12, 1.21751553e-10, 1.34620048e-09, 1.60758820e-08,\n",
       "        5.43528813e-16, 2.25908642e-15, 1.66644711e-20, 1.00000000e+00,\n",
       "        7.47889164e-12, 6.05829206e-11],\n",
       "       [1.19704646e-08, 8.33179641e-08, 8.83713440e-08, 9.99821007e-01,\n",
       "        1.34322642e-08, 9.75368479e-08, 1.79258388e-12, 1.78640301e-04,\n",
       "        1.42352963e-09, 3.53820931e-11],\n",
       "       [2.43617109e-07, 1.19656472e-11, 3.33473185e-13, 2.54158809e-14,\n",
       "        1.10082798e-09, 3.79474285e-10, 9.99999762e-01, 3.12225018e-14,\n",
       "        1.48103496e-09, 2.31613684e-15],\n",
       "       [3.30708099e-05, 9.99889135e-01, 3.27070552e-06, 4.05281526e-06,\n",
       "        2.84308444e-05, 1.26073047e-07, 3.22932392e-05, 3.64818078e-07,\n",
       "        9.28596182e-06, 4.66297978e-09],\n",
       "       [2.34921060e-09, 1.61796427e-11, 7.43892795e-12, 9.99999881e-01,\n",
       "        2.52663372e-14, 3.29348921e-08, 2.14735280e-16, 1.68776072e-12,\n",
       "        3.80699170e-08, 1.29995200e-07],\n",
       "       [5.08500619e-09, 2.08026294e-15, 1.04096168e-13, 4.21596785e-11,\n",
       "        8.38312145e-12, 1.46509627e-09, 1.00000000e+00, 2.67959899e-17,\n",
       "        6.86991242e-10, 2.16746583e-13],\n",
       "       [1.21392259e-05, 3.24131520e-07, 3.04162404e-06, 1.18558283e-03,\n",
       "        9.10319611e-02, 7.49582171e-07, 3.38423632e-07, 3.12024640e-04,\n",
       "        1.43527915e-03, 9.06018615e-01],\n",
       "       [1.02068807e-08, 4.20117985e-08, 8.48171273e-12, 9.99917984e-01,\n",
       "        1.80464466e-09, 2.01884768e-06, 1.10588713e-17, 6.27034480e-10,\n",
       "        1.94333016e-09, 7.99869376e-05],\n",
       "       [1.13087097e-07, 9.99967694e-01, 3.74838351e-07, 9.19651200e-08,\n",
       "        1.02955980e-07, 1.42730572e-09, 2.06553104e-08, 6.21350610e-11,\n",
       "        3.15910875e-05, 1.38413836e-10],\n",
       "       [3.21182483e-07, 3.74910436e-10, 7.05789810e-12, 3.84103860e-09,\n",
       "        9.99941230e-01, 5.73894196e-11, 1.36827941e-06, 3.36247086e-10,\n",
       "        4.10414905e-05, 1.61385542e-05],\n",
       "       [4.51125088e-05, 9.72148716e-01, 3.61857616e-04, 8.16926733e-03,\n",
       "        2.97018397e-03, 3.54583790e-05, 1.80964950e-08, 2.69764336e-04,\n",
       "        1.26360841e-02, 3.36362142e-03],\n",
       "       [3.74977523e-12, 2.32784667e-10, 3.04774517e-07, 6.03114995e-06,\n",
       "        3.32299466e-10, 1.01967133e-12, 2.17518008e-16, 9.99993324e-01,\n",
       "        3.37412558e-07, 1.01178916e-14],\n",
       "       [5.90324198e-05, 5.49486123e-10, 5.60136257e-08, 4.27159003e-10,\n",
       "        3.12368409e-10, 2.94451202e-05, 9.99911427e-01, 7.79223311e-13,\n",
       "        1.02018518e-08, 1.15926522e-11],\n",
       "       [6.16959747e-11, 3.84050350e-16, 2.23153795e-14, 1.24828787e-08,\n",
       "        2.63274180e-10, 2.49499965e-13, 3.10628809e-19, 4.08342427e-09,\n",
       "        3.15467444e-12, 1.00000000e+00]], dtype=float32)"
      ]
     },
     "execution_count": 51,
     "metadata": {},
     "output_type": "execute_result"
    }
   ],
   "source": [
    "y_out[0:100]"
   ]
  },
  {
   "cell_type": "code",
   "execution_count": 52,
   "metadata": {},
   "outputs": [
    {
     "data": {
      "text/plain": [
       "array([[7],\n",
       "       [2],\n",
       "       [1],\n",
       "       [0],\n",
       "       [4],\n",
       "       [1],\n",
       "       [4],\n",
       "       [9],\n",
       "       [5],\n",
       "       [9],\n",
       "       [0],\n",
       "       [6],\n",
       "       [9],\n",
       "       [0],\n",
       "       [1],\n",
       "       [5],\n",
       "       [9],\n",
       "       [7],\n",
       "       [3],\n",
       "       [4],\n",
       "       [9],\n",
       "       [6],\n",
       "       [6],\n",
       "       [5],\n",
       "       [4],\n",
       "       [0],\n",
       "       [7],\n",
       "       [4],\n",
       "       [0],\n",
       "       [1],\n",
       "       [3],\n",
       "       [1],\n",
       "       [3],\n",
       "       [4],\n",
       "       [7],\n",
       "       [2],\n",
       "       [7],\n",
       "       [1],\n",
       "       [2],\n",
       "       [1],\n",
       "       [1],\n",
       "       [7],\n",
       "       [4],\n",
       "       [2],\n",
       "       [3],\n",
       "       [5],\n",
       "       [1],\n",
       "       [2],\n",
       "       [4],\n",
       "       [4],\n",
       "       [6],\n",
       "       [3],\n",
       "       [5],\n",
       "       [5],\n",
       "       [6],\n",
       "       [0],\n",
       "       [4],\n",
       "       [1],\n",
       "       [9],\n",
       "       [5],\n",
       "       [7],\n",
       "       [8],\n",
       "       [9],\n",
       "       [3],\n",
       "       [7],\n",
       "       [4],\n",
       "       [6],\n",
       "       [4],\n",
       "       [3],\n",
       "       [0],\n",
       "       [7],\n",
       "       [0],\n",
       "       [2],\n",
       "       [9],\n",
       "       [1],\n",
       "       [7],\n",
       "       [3],\n",
       "       [2],\n",
       "       [9],\n",
       "       [7],\n",
       "       [7],\n",
       "       [6],\n",
       "       [2],\n",
       "       [7],\n",
       "       [8],\n",
       "       [4],\n",
       "       [7],\n",
       "       [3],\n",
       "       [6],\n",
       "       [1],\n",
       "       [3],\n",
       "       [6],\n",
       "       [9],\n",
       "       [3],\n",
       "       [1],\n",
       "       [4],\n",
       "       [1],\n",
       "       [7],\n",
       "       [6],\n",
       "       [9]], dtype=int64)"
      ]
     },
     "execution_count": 52,
     "metadata": {},
     "output_type": "execute_result"
    }
   ],
   "source": [
    "guess_out.reshape(-1, 1)[:100]"
   ]
  }
 ],
 "metadata": {
  "kernelspec": {
   "display_name": "python36",
   "language": "python",
   "name": "python36"
  },
  "language_info": {
   "codemirror_mode": {
    "name": "ipython",
    "version": 3
   },
   "file_extension": ".py",
   "mimetype": "text/x-python",
   "name": "python",
   "nbconvert_exporter": "python",
   "pygments_lexer": "ipython3",
   "version": "3.6.12"
  }
 },
 "nbformat": 4,
 "nbformat_minor": 4
}
