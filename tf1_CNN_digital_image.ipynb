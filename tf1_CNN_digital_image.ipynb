{
 "cells": [
  {
   "cell_type": "code",
   "execution_count": 1,
   "metadata": {},
   "outputs": [],
   "source": [
    "import numpy as np"
   ]
  },
  {
   "cell_type": "code",
   "execution_count": 3,
   "metadata": {},
   "outputs": [],
   "source": [
    "import matplotlib.pyplot as plt"
   ]
  },
  {
   "cell_type": "code",
   "execution_count": 4,
   "metadata": {},
   "outputs": [
    {
     "name": "stderr",
     "output_type": "stream",
     "text": [
      "C:\\Users\\Kwangsam\\anaconda3\\envs\\python36\\lib\\site-packages\\tensorflow\\python\\framework\\dtypes.py:523: FutureWarning: Passing (type, 1) or '1type' as a synonym of type is deprecated; in a future version of numpy, it will be understood as (type, (1,)) / '(1,)type'.\n",
      "  _np_qint8 = np.dtype([(\"qint8\", np.int8, 1)])\n",
      "C:\\Users\\Kwangsam\\anaconda3\\envs\\python36\\lib\\site-packages\\tensorflow\\python\\framework\\dtypes.py:524: FutureWarning: Passing (type, 1) or '1type' as a synonym of type is deprecated; in a future version of numpy, it will be understood as (type, (1,)) / '(1,)type'.\n",
      "  _np_quint8 = np.dtype([(\"quint8\", np.uint8, 1)])\n",
      "C:\\Users\\Kwangsam\\anaconda3\\envs\\python36\\lib\\site-packages\\tensorflow\\python\\framework\\dtypes.py:525: FutureWarning: Passing (type, 1) or '1type' as a synonym of type is deprecated; in a future version of numpy, it will be understood as (type, (1,)) / '(1,)type'.\n",
      "  _np_qint16 = np.dtype([(\"qint16\", np.int16, 1)])\n",
      "C:\\Users\\Kwangsam\\anaconda3\\envs\\python36\\lib\\site-packages\\tensorflow\\python\\framework\\dtypes.py:526: FutureWarning: Passing (type, 1) or '1type' as a synonym of type is deprecated; in a future version of numpy, it will be understood as (type, (1,)) / '(1,)type'.\n",
      "  _np_quint16 = np.dtype([(\"quint16\", np.uint16, 1)])\n",
      "C:\\Users\\Kwangsam\\anaconda3\\envs\\python36\\lib\\site-packages\\tensorflow\\python\\framework\\dtypes.py:527: FutureWarning: Passing (type, 1) or '1type' as a synonym of type is deprecated; in a future version of numpy, it will be understood as (type, (1,)) / '(1,)type'.\n",
      "  _np_qint32 = np.dtype([(\"qint32\", np.int32, 1)])\n",
      "C:\\Users\\Kwangsam\\anaconda3\\envs\\python36\\lib\\site-packages\\tensorflow\\python\\framework\\dtypes.py:532: FutureWarning: Passing (type, 1) or '1type' as a synonym of type is deprecated; in a future version of numpy, it will be understood as (type, (1,)) / '(1,)type'.\n",
      "  np_resource = np.dtype([(\"resource\", np.ubyte, 1)])\n"
     ]
    }
   ],
   "source": [
    "import tensorflow as tf"
   ]
  },
  {
   "cell_type": "code",
   "execution_count": 5,
   "metadata": {},
   "outputs": [
    {
     "data": {
      "text/plain": [
       "'1.9.0'"
      ]
     },
     "execution_count": 5,
     "metadata": {},
     "output_type": "execute_result"
    }
   ],
   "source": [
    "tf.__version__"
   ]
  },
  {
   "cell_type": "code",
   "execution_count": 6,
   "metadata": {},
   "outputs": [],
   "source": [
    "from tensorflow.examples.tutorials.mnist import input_data"
   ]
  },
  {
   "cell_type": "code",
   "execution_count": 7,
   "metadata": {},
   "outputs": [
    {
     "name": "stdout",
     "output_type": "stream",
     "text": [
      "WARNING:tensorflow:From <ipython-input-7-1a516c502833>:1: read_data_sets (from tensorflow.contrib.learn.python.learn.datasets.mnist) is deprecated and will be removed in a future version.\n",
      "Instructions for updating:\n",
      "Please use alternatives such as official/mnist/dataset.py from tensorflow/models.\n",
      "WARNING:tensorflow:From C:\\Users\\Kwangsam\\anaconda3\\envs\\python36\\lib\\site-packages\\tensorflow\\contrib\\learn\\python\\learn\\datasets\\mnist.py:260: maybe_download (from tensorflow.contrib.learn.python.learn.datasets.base) is deprecated and will be removed in a future version.\n",
      "Instructions for updating:\n",
      "Please write your own downloading logic.\n",
      "WARNING:tensorflow:From C:\\Users\\Kwangsam\\anaconda3\\envs\\python36\\lib\\site-packages\\tensorflow\\contrib\\learn\\python\\learn\\datasets\\mnist.py:262: extract_images (from tensorflow.contrib.learn.python.learn.datasets.mnist) is deprecated and will be removed in a future version.\n",
      "Instructions for updating:\n",
      "Please use tf.data to implement this functionality.\n",
      "Extracting MNIST_data/train-images-idx3-ubyte.gz\n",
      "WARNING:tensorflow:From C:\\Users\\Kwangsam\\anaconda3\\envs\\python36\\lib\\site-packages\\tensorflow\\contrib\\learn\\python\\learn\\datasets\\mnist.py:267: extract_labels (from tensorflow.contrib.learn.python.learn.datasets.mnist) is deprecated and will be removed in a future version.\n",
      "Instructions for updating:\n",
      "Please use tf.data to implement this functionality.\n",
      "Extracting MNIST_data/train-labels-idx1-ubyte.gz\n",
      "WARNING:tensorflow:From C:\\Users\\Kwangsam\\anaconda3\\envs\\python36\\lib\\site-packages\\tensorflow\\contrib\\learn\\python\\learn\\datasets\\mnist.py:110: dense_to_one_hot (from tensorflow.contrib.learn.python.learn.datasets.mnist) is deprecated and will be removed in a future version.\n",
      "Instructions for updating:\n",
      "Please use tf.one_hot on tensors.\n",
      "Extracting MNIST_data/t10k-images-idx3-ubyte.gz\n",
      "Extracting MNIST_data/t10k-labels-idx1-ubyte.gz\n",
      "WARNING:tensorflow:From C:\\Users\\Kwangsam\\anaconda3\\envs\\python36\\lib\\site-packages\\tensorflow\\contrib\\learn\\python\\learn\\datasets\\mnist.py:290: DataSet.__init__ (from tensorflow.contrib.learn.python.learn.datasets.mnist) is deprecated and will be removed in a future version.\n",
      "Instructions for updating:\n",
      "Please use alternatives such as official/mnist/dataset.py from tensorflow/models.\n"
     ]
    }
   ],
   "source": [
    "mnist = input_data.read_data_sets(\"MNIST_data/\", one_hot = True)"
   ]
  },
  {
   "cell_type": "code",
   "execution_count": 8,
   "metadata": {},
   "outputs": [],
   "source": [
    "x_train, y_train = mnist.train.images, mnist.train.labels"
   ]
  },
  {
   "cell_type": "code",
   "execution_count": 9,
   "metadata": {},
   "outputs": [
    {
     "data": {
      "text/plain": [
       "array([0.        , 0.        , 0.        , 0.        , 0.        ,\n",
       "       0.        , 0.        , 0.        , 0.        , 0.        ,\n",
       "       0.        , 0.        , 0.        , 0.        , 0.        ,\n",
       "       0.        , 0.        , 0.        , 0.        , 0.        ,\n",
       "       0.        , 0.        , 0.        , 0.        , 0.        ,\n",
       "       0.        , 0.        , 0.        , 0.        , 0.        ,\n",
       "       0.        , 0.        , 0.        , 0.        , 0.        ,\n",
       "       0.        , 0.        , 0.        , 0.        , 0.        ,\n",
       "       0.        , 0.        , 0.        , 0.        , 0.        ,\n",
       "       0.        , 0.        , 0.        , 0.        , 0.        ,\n",
       "       0.        , 0.        , 0.        , 0.        , 0.        ,\n",
       "       0.        , 0.        , 0.        , 0.        , 0.        ,\n",
       "       0.        , 0.        , 0.        , 0.        , 0.        ,\n",
       "       0.        , 0.        , 0.        , 0.        , 0.        ,\n",
       "       0.        , 0.        , 0.        , 0.        , 0.        ,\n",
       "       0.        , 0.        , 0.        , 0.        , 0.        ,\n",
       "       0.        , 0.        , 0.        , 0.        , 0.        ,\n",
       "       0.        , 0.        , 0.        , 0.        , 0.        ,\n",
       "       0.        , 0.        , 0.        , 0.        , 0.        ,\n",
       "       0.        , 0.        , 0.        , 0.        , 0.        ,\n",
       "       0.        , 0.        , 0.        , 0.        , 0.        ,\n",
       "       0.        , 0.        , 0.        , 0.        , 0.        ,\n",
       "       0.        , 0.        , 0.        , 0.        , 0.        ,\n",
       "       0.        , 0.        , 0.        , 0.        , 0.        ,\n",
       "       0.        , 0.        , 0.        , 0.        , 0.        ,\n",
       "       0.        , 0.        , 0.        , 0.        , 0.        ,\n",
       "       0.        , 0.        , 0.        , 0.        , 0.        ,\n",
       "       0.        , 0.        , 0.        , 0.        , 0.        ,\n",
       "       0.        , 0.        , 0.        , 0.        , 0.        ,\n",
       "       0.        , 0.        , 0.        , 0.        , 0.        ,\n",
       "       0.        , 0.        , 0.        , 0.        , 0.        ,\n",
       "       0.        , 0.        , 0.        , 0.        , 0.        ,\n",
       "       0.        , 0.        , 0.        , 0.        , 0.        ,\n",
       "       0.        , 0.        , 0.        , 0.        , 0.        ,\n",
       "       0.        , 0.        , 0.        , 0.        , 0.        ,\n",
       "       0.        , 0.        , 0.        , 0.        , 0.        ,\n",
       "       0.        , 0.        , 0.        , 0.        , 0.        ,\n",
       "       0.        , 0.        , 0.        , 0.        , 0.        ,\n",
       "       0.        , 0.        , 0.        , 0.        , 0.        ,\n",
       "       0.        , 0.        , 0.        , 0.        , 0.        ,\n",
       "       0.        , 0.        , 0.        , 0.        , 0.        ,\n",
       "       0.        , 0.        , 0.3803922 , 0.37647063, 0.3019608 ,\n",
       "       0.46274513, 0.2392157 , 0.        , 0.        , 0.        ,\n",
       "       0.        , 0.        , 0.        , 0.        , 0.        ,\n",
       "       0.        , 0.        , 0.        , 0.        , 0.        ,\n",
       "       0.        , 0.        , 0.3529412 , 0.5411765 , 0.9215687 ,\n",
       "       0.9215687 , 0.9215687 , 0.9215687 , 0.9215687 , 0.9215687 ,\n",
       "       0.9843138 , 0.9843138 , 0.9725491 , 0.9960785 , 0.9607844 ,\n",
       "       0.9215687 , 0.74509805, 0.08235294, 0.        , 0.        ,\n",
       "       0.        , 0.        , 0.        , 0.        , 0.        ,\n",
       "       0.        , 0.        , 0.        , 0.        , 0.54901963,\n",
       "       0.9843138 , 0.9960785 , 0.9960785 , 0.9960785 , 0.9960785 ,\n",
       "       0.9960785 , 0.9960785 , 0.9960785 , 0.9960785 , 0.9960785 ,\n",
       "       0.9960785 , 0.9960785 , 0.9960785 , 0.9960785 , 0.9960785 ,\n",
       "       0.7411765 , 0.09019608, 0.        , 0.        , 0.        ,\n",
       "       0.        , 0.        , 0.        , 0.        , 0.        ,\n",
       "       0.        , 0.        , 0.8862746 , 0.9960785 , 0.81568635,\n",
       "       0.7803922 , 0.7803922 , 0.7803922 , 0.7803922 , 0.54509807,\n",
       "       0.2392157 , 0.2392157 , 0.2392157 , 0.2392157 , 0.2392157 ,\n",
       "       0.5019608 , 0.8705883 , 0.9960785 , 0.9960785 , 0.7411765 ,\n",
       "       0.08235294, 0.        , 0.        , 0.        , 0.        ,\n",
       "       0.        , 0.        , 0.        , 0.        , 0.        ,\n",
       "       0.14901961, 0.32156864, 0.0509804 , 0.        , 0.        ,\n",
       "       0.        , 0.        , 0.        , 0.        , 0.        ,\n",
       "       0.        , 0.        , 0.        , 0.        , 0.13333334,\n",
       "       0.8352942 , 0.9960785 , 0.9960785 , 0.45098042, 0.        ,\n",
       "       0.        , 0.        , 0.        , 0.        , 0.        ,\n",
       "       0.        , 0.        , 0.        , 0.        , 0.        ,\n",
       "       0.        , 0.        , 0.        , 0.        , 0.        ,\n",
       "       0.        , 0.        , 0.        , 0.        , 0.        ,\n",
       "       0.        , 0.        , 0.        , 0.32941177, 0.9960785 ,\n",
       "       0.9960785 , 0.9176471 , 0.        , 0.        , 0.        ,\n",
       "       0.        , 0.        , 0.        , 0.        , 0.        ,\n",
       "       0.        , 0.        , 0.        , 0.        , 0.        ,\n",
       "       0.        , 0.        , 0.        , 0.        , 0.        ,\n",
       "       0.        , 0.        , 0.        , 0.        , 0.        ,\n",
       "       0.        , 0.32941177, 0.9960785 , 0.9960785 , 0.9176471 ,\n",
       "       0.        , 0.        , 0.        , 0.        , 0.        ,\n",
       "       0.        , 0.        , 0.        , 0.        , 0.        ,\n",
       "       0.        , 0.        , 0.        , 0.        , 0.        ,\n",
       "       0.        , 0.        , 0.        , 0.        , 0.        ,\n",
       "       0.        , 0.        , 0.        , 0.4156863 , 0.6156863 ,\n",
       "       0.9960785 , 0.9960785 , 0.95294124, 0.20000002, 0.        ,\n",
       "       0.        , 0.        , 0.        , 0.        , 0.        ,\n",
       "       0.        , 0.        , 0.        , 0.        , 0.        ,\n",
       "       0.        , 0.        , 0.        , 0.        , 0.        ,\n",
       "       0.        , 0.09803922, 0.45882356, 0.8941177 , 0.8941177 ,\n",
       "       0.8941177 , 0.9921569 , 0.9960785 , 0.9960785 , 0.9960785 ,\n",
       "       0.9960785 , 0.94117653, 0.        , 0.        , 0.        ,\n",
       "       0.        , 0.        , 0.        , 0.        , 0.        ,\n",
       "       0.        , 0.        , 0.        , 0.        , 0.        ,\n",
       "       0.        , 0.        , 0.26666668, 0.4666667 , 0.86274517,\n",
       "       0.9960785 , 0.9960785 , 0.9960785 , 0.9960785 , 0.9960785 ,\n",
       "       0.9960785 , 0.9960785 , 0.9960785 , 0.9960785 , 0.5568628 ,\n",
       "       0.        , 0.        , 0.        , 0.        , 0.        ,\n",
       "       0.        , 0.        , 0.        , 0.        , 0.        ,\n",
       "       0.        , 0.        , 0.        , 0.14509805, 0.73333335,\n",
       "       0.9921569 , 0.9960785 , 0.9960785 , 0.9960785 , 0.8745099 ,\n",
       "       0.8078432 , 0.8078432 , 0.29411766, 0.26666668, 0.8431373 ,\n",
       "       0.9960785 , 0.9960785 , 0.45882356, 0.        , 0.        ,\n",
       "       0.        , 0.        , 0.        , 0.        , 0.        ,\n",
       "       0.        , 0.        , 0.        , 0.        , 0.        ,\n",
       "       0.4431373 , 0.8588236 , 0.9960785 , 0.9490197 , 0.89019614,\n",
       "       0.45098042, 0.34901962, 0.12156864, 0.        , 0.        ,\n",
       "       0.        , 0.        , 0.7843138 , 0.9960785 , 0.9450981 ,\n",
       "       0.16078432, 0.        , 0.        , 0.        , 0.        ,\n",
       "       0.        , 0.        , 0.        , 0.        , 0.        ,\n",
       "       0.        , 0.        , 0.        , 0.6627451 , 0.9960785 ,\n",
       "       0.6901961 , 0.24313727, 0.        , 0.        , 0.        ,\n",
       "       0.        , 0.        , 0.        , 0.        , 0.18823531,\n",
       "       0.9058824 , 0.9960785 , 0.9176471 , 0.        , 0.        ,\n",
       "       0.        , 0.        , 0.        , 0.        , 0.        ,\n",
       "       0.        , 0.        , 0.        , 0.        , 0.        ,\n",
       "       0.        , 0.07058824, 0.48627454, 0.        , 0.        ,\n",
       "       0.        , 0.        , 0.        , 0.        , 0.        ,\n",
       "       0.        , 0.        , 0.32941177, 0.9960785 , 0.9960785 ,\n",
       "       0.6509804 , 0.        , 0.        , 0.        , 0.        ,\n",
       "       0.        , 0.        , 0.        , 0.        , 0.        ,\n",
       "       0.        , 0.        , 0.        , 0.        , 0.        ,\n",
       "       0.        , 0.        , 0.        , 0.        , 0.        ,\n",
       "       0.        , 0.        , 0.        , 0.        , 0.        ,\n",
       "       0.54509807, 0.9960785 , 0.9333334 , 0.22352943, 0.        ,\n",
       "       0.        , 0.        , 0.        , 0.        , 0.        ,\n",
       "       0.        , 0.        , 0.        , 0.        , 0.        ,\n",
       "       0.        , 0.        , 0.        , 0.        , 0.        ,\n",
       "       0.        , 0.        , 0.        , 0.        , 0.        ,\n",
       "       0.        , 0.        , 0.8235295 , 0.9803922 , 0.9960785 ,\n",
       "       0.65882355, 0.        , 0.        , 0.        , 0.        ,\n",
       "       0.        , 0.        , 0.        , 0.        , 0.        ,\n",
       "       0.        , 0.        , 0.        , 0.        , 0.        ,\n",
       "       0.        , 0.        , 0.        , 0.        , 0.        ,\n",
       "       0.        , 0.        , 0.        , 0.        , 0.        ,\n",
       "       0.9490197 , 0.9960785 , 0.93725497, 0.22352943, 0.        ,\n",
       "       0.        , 0.        , 0.        , 0.        , 0.        ,\n",
       "       0.        , 0.        , 0.        , 0.        , 0.        ,\n",
       "       0.        , 0.        , 0.        , 0.        , 0.        ,\n",
       "       0.        , 0.        , 0.        , 0.        , 0.        ,\n",
       "       0.        , 0.        , 0.34901962, 0.9843138 , 0.9450981 ,\n",
       "       0.3372549 , 0.        , 0.        , 0.        , 0.        ,\n",
       "       0.        , 0.        , 0.        , 0.        , 0.        ,\n",
       "       0.        , 0.        , 0.        , 0.        , 0.        ,\n",
       "       0.        , 0.        , 0.        , 0.        , 0.        ,\n",
       "       0.        , 0.        , 0.        , 0.        , 0.01960784,\n",
       "       0.8078432 , 0.96470594, 0.6156863 , 0.        , 0.        ,\n",
       "       0.        , 0.        , 0.        , 0.        , 0.        ,\n",
       "       0.        , 0.        , 0.        , 0.        , 0.        ,\n",
       "       0.        , 0.        , 0.        , 0.        , 0.        ,\n",
       "       0.        , 0.        , 0.        , 0.        , 0.        ,\n",
       "       0.        , 0.        , 0.01568628, 0.45882356, 0.27058825,\n",
       "       0.        , 0.        , 0.        , 0.        , 0.        ,\n",
       "       0.        , 0.        , 0.        , 0.        , 0.        ,\n",
       "       0.        , 0.        , 0.        , 0.        , 0.        ,\n",
       "       0.        , 0.        , 0.        , 0.        , 0.        ,\n",
       "       0.        , 0.        , 0.        , 0.        , 0.        ,\n",
       "       0.        , 0.        , 0.        , 0.        , 0.        ,\n",
       "       0.        , 0.        , 0.        , 0.        , 0.        ,\n",
       "       0.        , 0.        , 0.        , 0.        ], dtype=float32)"
      ]
     },
     "execution_count": 9,
     "metadata": {},
     "output_type": "execute_result"
    }
   ],
   "source": [
    "x_train[0]"
   ]
  },
  {
   "cell_type": "code",
   "execution_count": 11,
   "metadata": {},
   "outputs": [
    {
     "data": {
      "text/plain": [
       "<matplotlib.image.AxesImage at 0x1d13f1fbdd8>"
      ]
     },
     "execution_count": 11,
     "metadata": {},
     "output_type": "execute_result"
    },
    {
     "data": {
      "image/png": "[encoded data removed]",
      "text/plain": [
       "<Figure size 432x288 with 1 Axes>"
      ]
     },
     "metadata": {
      "needs_background": "light"
     },
     "output_type": "display_data"
    }
   ],
   "source": [
    "plt.imshow(x_train.reshape(-1, 28, 28)[0])"
   ]
  },
  {
   "cell_type": "code",
   "execution_count": 12,
   "metadata": {},
   "outputs": [
    {
     "data": {
      "text/plain": [
       "array([0., 0., 0., 0., 0., 0., 0., 1., 0., 0.])"
      ]
     },
     "execution_count": 12,
     "metadata": {},
     "output_type": "execute_result"
    }
   ],
   "source": [
    "y_train[0]"
   ]
  },
  {
   "cell_type": "code",
   "execution_count": 13,
   "metadata": {},
   "outputs": [],
   "source": [
    "x_test, y_test = mnist.test.images, mnist.test.labels"
   ]
  },
  {
   "cell_type": "code",
   "execution_count": 14,
   "metadata": {},
   "outputs": [
    {
     "data": {
      "text/plain": [
       "<matplotlib.image.AxesImage at 0x1d13f262dd8>"
      ]
     },
     "execution_count": 14,
     "metadata": {},
     "output_type": "execute_result"
    },
    {
     "data": {
      "image/png": "[encoded data removed]",
      "text/plain": [
       "<Figure size 432x288 with 1 Axes>"
      ]
     },
     "metadata": {
      "needs_background": "light"
     },
     "output_type": "display_data"
    }
   ],
   "source": [
    "plt.imshow(x_test.reshape(-1, 28, 28)[1])"
   ]
  },
  {
   "cell_type": "code",
   "execution_count": 15,
   "metadata": {},
   "outputs": [
    {
     "data": {
      "text/plain": [
       "array([0., 0., 0., 0., 0., 0., 0., 1., 0., 0.])"
      ]
     },
     "execution_count": 15,
     "metadata": {},
     "output_type": "execute_result"
    }
   ],
   "source": [
    "y_test[0]"
   ]
  },
  {
   "cell_type": "markdown",
   "metadata": {},
   "source": [
    "## Build input variables"
   ]
  },
  {
   "cell_type": "code",
   "execution_count": 16,
   "metadata": {},
   "outputs": [],
   "source": [
    "X = tf.placeholder(tf.float32, shape=[None, 784])"
   ]
  },
  {
   "cell_type": "code",
   "execution_count": 17,
   "metadata": {},
   "outputs": [],
   "source": [
    "Y = tf.placeholder(tf.float32, shape=[None, 10])"
   ]
  },
  {
   "cell_type": "markdown",
   "metadata": {},
   "source": [
    "## Input Layer"
   ]
  },
  {
   "cell_type": "code",
   "execution_count": 18,
   "metadata": {},
   "outputs": [],
   "source": [
    "input_layer = tf.reshape(tensor=X, shape=[-1, 28, 28, 1])"
   ]
  },
  {
   "cell_type": "markdown",
   "metadata": {},
   "source": [
    "## Convolutional Layer 1"
   ]
  },
  {
   "cell_type": "code",
   "execution_count": 19,
   "metadata": {},
   "outputs": [],
   "source": [
    "conv1 = tf.layers.conv2d(inputs=input_layer, filters=32, kernel_size=[5, 5], padding=\"same\", activation=tf.nn.relu)"
   ]
  },
  {
   "cell_type": "code",
   "execution_count": 22,
   "metadata": {},
   "outputs": [],
   "source": [
    "conv1_pooling = tf.layers.max_pooling2d(inputs=conv1, pool_size=[2, 2], strides=2)"
   ]
  },
  {
   "cell_type": "markdown",
   "metadata": {},
   "source": [
    "## Convolutional Layer 2"
   ]
  },
  {
   "cell_type": "code",
   "execution_count": 23,
   "metadata": {},
   "outputs": [],
   "source": [
    "conv2 = tf.layers.conv2d(inputs=conv1_pooling, filters=64, kernel_size=[5, 5], padding=\"same\", activation=tf.nn.relu)"
   ]
  },
  {
   "cell_type": "code",
   "execution_count": 24,
   "metadata": {},
   "outputs": [],
   "source": [
    "conv2_pooling = tf.layers.max_pooling2d(inputs=conv2, pool_size=[2, 2], strides=2)"
   ]
  },
  {
   "cell_type": "markdown",
   "metadata": {},
   "source": [
    "## Dense Layer"
   ]
  },
  {
   "cell_type": "code",
   "execution_count": 25,
   "metadata": {},
   "outputs": [],
   "source": [
    "conv2_pooling_flat = tf.reshape(conv2_pooling, shape=[-1, 7*7*64])"
   ]
  },
  {
   "cell_type": "code",
   "execution_count": 26,
   "metadata": {},
   "outputs": [],
   "source": [
    "conv_flat = tf.layers.dense(inputs=conv2_pooling_flat, units=1024, activation=tf.nn.relu)"
   ]
  },
  {
   "cell_type": "code",
   "execution_count": 27,
   "metadata": {},
   "outputs": [],
   "source": [
    "logit = tf.layers.dense(inputs=conv_flat, units=10)"
   ]
  },
  {
   "cell_type": "code",
   "execution_count": 29,
   "metadata": {},
   "outputs": [],
   "source": [
    "y_estimated = tf.nn.softmax(logit)\n",
    "guess = tf.argmax(logit, 1)"
   ]
  },
  {
   "cell_type": "markdown",
   "metadata": {},
   "source": [
    "## Loss Function"
   ]
  },
  {
   "cell_type": "code",
   "execution_count": 32,
   "metadata": {},
   "outputs": [],
   "source": [
    "cost = tf.losses.softmax_cross_entropy(onehot_labels=Y, logits=y_estimated)"
   ]
  },
  {
   "cell_type": "code",
   "execution_count": 34,
   "metadata": {},
   "outputs": [],
   "source": [
    "learning_rate = 0.0001\n",
    "training_epoch = 3000\n",
    "batch_size = 128\n",
    "display_step = 100"
   ]
  },
  {
   "cell_type": "markdown",
   "metadata": {},
   "source": [
    "## Optimizer"
   ]
  },
  {
   "cell_type": "code",
   "execution_count": 35,
   "metadata": {},
   "outputs": [],
   "source": [
    "optimizer = tf.train.AdamOptimizer(learning_rate=learning_rate)\n",
    "model = optimizer.minimize(cost)"
   ]
  },
  {
   "cell_type": "code",
   "execution_count": 37,
   "metadata": {},
   "outputs": [],
   "source": [
    "sess = tf.Session()\n",
    "init = tf.global_variables_initializer()\n",
    "sess.run(init)"
   ]
  },
  {
   "cell_type": "code",
   "execution_count": 38,
   "metadata": {},
   "outputs": [
    {
     "name": "stdout",
     "output_type": "stream",
     "text": [
      "epoch =  0 accuracy =  0.1875 cost =  2.2962022\n",
      "epoch =  100 accuracy =  0.890625 cost =  1.616966\n",
      "epoch =  200 accuracy =  0.9453125 cost =  1.5433753\n",
      "epoch =  300 accuracy =  0.9140625 cost =  1.5584356\n",
      "epoch =  400 accuracy =  0.921875 cost =  1.5456386\n",
      "epoch =  500 accuracy =  0.9765625 cost =  1.501958\n",
      "epoch =  600 accuracy =  0.953125 cost =  1.5172164\n",
      "epoch =  700 accuracy =  0.9453125 cost =  1.5175722\n",
      "epoch =  800 accuracy =  0.9765625 cost =  1.4920026\n",
      "epoch =  900 accuracy =  0.9765625 cost =  1.4877597\n",
      "epoch =  1000 accuracy =  0.9765625 cost =  1.4875276\n",
      "epoch =  1100 accuracy =  0.96875 cost =  1.4991604\n",
      "epoch =  1200 accuracy =  0.9765625 cost =  1.4889848\n",
      "epoch =  1300 accuracy =  0.9765625 cost =  1.4920496\n",
      "epoch =  1400 accuracy =  0.9453125 cost =  1.5257673\n",
      "epoch =  1500 accuracy =  0.96875 cost =  1.4948232\n",
      "epoch =  1600 accuracy =  0.96875 cost =  1.4930092\n",
      "epoch =  1700 accuracy =  0.96875 cost =  1.4927555\n",
      "epoch =  1800 accuracy =  0.984375 cost =  1.4798585\n",
      "epoch =  1900 accuracy =  0.984375 cost =  1.4775672\n",
      "epoch =  2000 accuracy =  0.9921875 cost =  1.4684083\n",
      "epoch =  2100 accuracy =  0.96875 cost =  1.4887764\n",
      "epoch =  2200 accuracy =  0.984375 cost =  1.4787288\n",
      "epoch =  2300 accuracy =  0.9921875 cost =  1.4700305\n",
      "epoch =  2400 accuracy =  1.0 cost =  1.464785\n",
      "epoch =  2500 accuracy =  0.9921875 cost =  1.4708712\n",
      "epoch =  2600 accuracy =  0.9765625 cost =  1.4839289\n",
      "epoch =  2700 accuracy =  0.96875 cost =  1.488716\n",
      "epoch =  2800 accuracy =  0.984375 cost =  1.4798048\n",
      "epoch =  2900 accuracy =  0.9765625 cost =  1.4877129\n",
      "epoch =  3000 accuracy =  1.0 cost =  1.4697798\n"
     ]
    }
   ],
   "source": [
    "for step in range(training_epoch):\n",
    "    x_data, y_data = mnist.train.next_batch(batch_size)\n",
    "    sess.run(model, feed_dict={X: x_data, Y: y_data})\n",
    "    correct_prediction = tf.equal(tf.argmax(Y, 1), tf.argmax(y_estimated, 1))\n",
    "    accuracy = tf.reduce_mean(tf.cast(correct_prediction, tf.float32))\n",
    "    if step % display_step == 0:\n",
    "        print(\"epoch = \", step, \"accuracy = \", sess.run(accuracy, feed_dict={X: x_data, Y: y_data}), \n",
    "                \"cost = \", sess.run(cost, feed_dict={X: x_data, Y: y_data}))\n",
    "\n",
    "print(\"epoch = \", step+1, \"accuracy = \", sess.run(accuracy, feed_dict={X: x_data, Y: y_data}),\n",
    "         \"cost = \", sess.run(cost, feed_dict={X: x_data, Y: y_data}))"
   ]
  },
  {
   "cell_type": "code",
   "execution_count": 39,
   "metadata": {},
   "outputs": [
    {
     "name": "stdout",
     "output_type": "stream",
     "text": [
      "accuracy =  0.9842 cost =  1.4779801\n"
     ]
    }
   ],
   "source": [
    "print(\"accuracy = \", sess.run(accuracy, feed_dict={X: x_test, Y: y_test}),\n",
    "         \"cost = \", sess.run(cost, feed_dict={X: x_test, Y: y_test}))"
   ]
  },
  {
   "cell_type": "code",
   "execution_count": 40,
   "metadata": {},
   "outputs": [],
   "source": [
    "y_out = sess.run(y_estimated, feed_dict={X: x_test, Y: y_test})\n",
    "guess_out = sess.run(guess, feed_dict={X: x_test, Y: y_test})"
   ]
  },
  {
   "cell_type": "code",
   "execution_count": 41,
   "metadata": {},
   "outputs": [
    {
     "data": {
      "text/plain": [
       "array([[0., 0., 0., 0., 0., 0., 0., 1., 0., 0.],\n",
       "       [0., 0., 1., 0., 0., 0., 0., 0., 0., 0.],\n",
       "       [0., 1., 0., 0., 0., 0., 0., 0., 0., 0.],\n",
       "       [1., 0., 0., 0., 0., 0., 0., 0., 0., 0.],\n",
       "       [0., 0., 0., 0., 1., 0., 0., 0., 0., 0.],\n",
       "       [0., 1., 0., 0., 0., 0., 0., 0., 0., 0.],\n",
       "       [0., 0., 0., 0., 1., 0., 0., 0., 0., 0.],\n",
       "       [0., 0., 0., 0., 0., 0., 0., 0., 0., 1.],\n",
       "       [0., 0., 0., 0., 0., 1., 0., 0., 0., 0.],\n",
       "       [0., 0., 0., 0., 0., 0., 0., 0., 0., 1.],\n",
       "       [1., 0., 0., 0., 0., 0., 0., 0., 0., 0.],\n",
       "       [0., 0., 0., 0., 0., 0., 1., 0., 0., 0.],\n",
       "       [0., 0., 0., 0., 0., 0., 0., 0., 0., 1.],\n",
       "       [1., 0., 0., 0., 0., 0., 0., 0., 0., 0.],\n",
       "       [0., 1., 0., 0., 0., 0., 0., 0., 0., 0.],\n",
       "       [0., 0., 0., 0., 0., 1., 0., 0., 0., 0.],\n",
       "       [0., 0., 0., 0., 0., 0., 0., 0., 0., 1.],\n",
       "       [0., 0., 0., 0., 0., 0., 0., 1., 0., 0.],\n",
       "       [0., 0., 0., 1., 0., 0., 0., 0., 0., 0.],\n",
       "       [0., 0., 0., 0., 1., 0., 0., 0., 0., 0.],\n",
       "       [0., 0., 0., 0., 0., 0., 0., 0., 0., 1.],\n",
       "       [0., 0., 0., 0., 0., 0., 1., 0., 0., 0.],\n",
       "       [0., 0., 0., 0., 0., 0., 1., 0., 0., 0.],\n",
       "       [0., 0., 0., 0., 0., 1., 0., 0., 0., 0.],\n",
       "       [0., 0., 0., 0., 1., 0., 0., 0., 0., 0.],\n",
       "       [1., 0., 0., 0., 0., 0., 0., 0., 0., 0.],\n",
       "       [0., 0., 0., 0., 0., 0., 0., 1., 0., 0.],\n",
       "       [0., 0., 0., 0., 1., 0., 0., 0., 0., 0.],\n",
       "       [1., 0., 0., 0., 0., 0., 0., 0., 0., 0.],\n",
       "       [0., 1., 0., 0., 0., 0., 0., 0., 0., 0.],\n",
       "       [0., 0., 0., 1., 0., 0., 0., 0., 0., 0.],\n",
       "       [0., 1., 0., 0., 0., 0., 0., 0., 0., 0.],\n",
       "       [0., 0., 0., 1., 0., 0., 0., 0., 0., 0.],\n",
       "       [0., 0., 0., 0., 1., 0., 0., 0., 0., 0.],\n",
       "       [0., 0., 0., 0., 0., 0., 0., 1., 0., 0.],\n",
       "       [0., 0., 1., 0., 0., 0., 0., 0., 0., 0.],\n",
       "       [0., 0., 0., 0., 0., 0., 0., 1., 0., 0.],\n",
       "       [0., 1., 0., 0., 0., 0., 0., 0., 0., 0.],\n",
       "       [0., 0., 1., 0., 0., 0., 0., 0., 0., 0.],\n",
       "       [0., 1., 0., 0., 0., 0., 0., 0., 0., 0.],\n",
       "       [0., 1., 0., 0., 0., 0., 0., 0., 0., 0.],\n",
       "       [0., 0., 0., 0., 0., 0., 0., 1., 0., 0.],\n",
       "       [0., 0., 0., 0., 1., 0., 0., 0., 0., 0.],\n",
       "       [0., 0., 1., 0., 0., 0., 0., 0., 0., 0.],\n",
       "       [0., 0., 0., 1., 0., 0., 0., 0., 0., 0.],\n",
       "       [0., 0., 0., 0., 0., 1., 0., 0., 0., 0.],\n",
       "       [0., 1., 0., 0., 0., 0., 0., 0., 0., 0.],\n",
       "       [0., 0., 1., 0., 0., 0., 0., 0., 0., 0.],\n",
       "       [0., 0., 0., 0., 1., 0., 0., 0., 0., 0.],\n",
       "       [0., 0., 0., 0., 1., 0., 0., 0., 0., 0.],\n",
       "       [0., 0., 0., 0., 0., 0., 1., 0., 0., 0.],\n",
       "       [0., 0., 0., 1., 0., 0., 0., 0., 0., 0.],\n",
       "       [0., 0., 0., 0., 0., 1., 0., 0., 0., 0.],\n",
       "       [0., 0., 0., 0., 0., 1., 0., 0., 0., 0.],\n",
       "       [0., 0., 0., 0., 0., 0., 1., 0., 0., 0.],\n",
       "       [1., 0., 0., 0., 0., 0., 0., 0., 0., 0.],\n",
       "       [0., 0., 0., 0., 1., 0., 0., 0., 0., 0.],\n",
       "       [0., 1., 0., 0., 0., 0., 0., 0., 0., 0.],\n",
       "       [0., 0., 0., 0., 0., 0., 0., 0., 0., 1.],\n",
       "       [0., 0., 0., 0., 0., 1., 0., 0., 0., 0.],\n",
       "       [0., 0., 0., 0., 0., 0., 0., 1., 0., 0.],\n",
       "       [0., 0., 0., 0., 0., 0., 0., 0., 1., 0.],\n",
       "       [0., 0., 0., 0., 0., 0., 0., 0., 0., 1.],\n",
       "       [0., 0., 0., 1., 0., 0., 0., 0., 0., 0.],\n",
       "       [0., 0., 0., 0., 0., 0., 0., 1., 0., 0.],\n",
       "       [0., 0., 0., 0., 1., 0., 0., 0., 0., 0.],\n",
       "       [0., 0., 0., 0., 0., 0., 1., 0., 0., 0.],\n",
       "       [0., 0., 0., 0., 1., 0., 0., 0., 0., 0.],\n",
       "       [0., 0., 0., 1., 0., 0., 0., 0., 0., 0.],\n",
       "       [1., 0., 0., 0., 0., 0., 0., 0., 0., 0.],\n",
       "       [0., 0., 0., 0., 0., 0., 0., 1., 0., 0.],\n",
       "       [1., 0., 0., 0., 0., 0., 0., 0., 0., 0.],\n",
       "       [0., 0., 1., 0., 0., 0., 0., 0., 0., 0.],\n",
       "       [0., 0., 0., 0., 0., 0., 0., 0., 0., 1.],\n",
       "       [0., 1., 0., 0., 0., 0., 0., 0., 0., 0.],\n",
       "       [0., 0., 0., 0., 0., 0., 0., 1., 0., 0.],\n",
       "       [0., 0., 0., 1., 0., 0., 0., 0., 0., 0.],\n",
       "       [0., 0., 1., 0., 0., 0., 0., 0., 0., 0.],\n",
       "       [0., 0., 0., 0., 0., 0., 0., 0., 0., 1.],\n",
       "       [0., 0., 0., 0., 0., 0., 0., 1., 0., 0.],\n",
       "       [0., 0., 0., 0., 0., 0., 0., 1., 0., 0.],\n",
       "       [0., 0., 0., 0., 0., 0., 1., 0., 0., 0.],\n",
       "       [0., 0., 1., 0., 0., 0., 0., 0., 0., 0.],\n",
       "       [0., 0., 0., 0., 0., 0., 0., 1., 0., 0.],\n",
       "       [0., 0., 0., 0., 0., 0., 0., 0., 1., 0.],\n",
       "       [0., 0., 0., 0., 1., 0., 0., 0., 0., 0.],\n",
       "       [0., 0., 0., 0., 0., 0., 0., 1., 0., 0.],\n",
       "       [0., 0., 0., 1., 0., 0., 0., 0., 0., 0.],\n",
       "       [0., 0., 0., 0., 0., 0., 1., 0., 0., 0.],\n",
       "       [0., 1., 0., 0., 0., 0., 0., 0., 0., 0.],\n",
       "       [0., 0., 0., 1., 0., 0., 0., 0., 0., 0.],\n",
       "       [0., 0., 0., 0., 0., 0., 1., 0., 0., 0.],\n",
       "       [0., 0., 0., 0., 0., 0., 0., 0., 0., 1.],\n",
       "       [0., 0., 0., 1., 0., 0., 0., 0., 0., 0.],\n",
       "       [0., 1., 0., 0., 0., 0., 0., 0., 0., 0.],\n",
       "       [0., 0., 0., 0., 1., 0., 0., 0., 0., 0.],\n",
       "       [0., 1., 0., 0., 0., 0., 0., 0., 0., 0.],\n",
       "       [0., 0., 0., 0., 0., 0., 0., 1., 0., 0.],\n",
       "       [0., 0., 0., 0., 0., 0., 1., 0., 0., 0.],\n",
       "       [0., 0., 0., 0., 0., 0., 0., 0., 0., 1.]])"
      ]
     },
     "execution_count": 41,
     "metadata": {},
     "output_type": "execute_result"
    }
   ],
   "source": [
    "y_test[:100]"
   ]
  },
  {
   "cell_type": "code",
   "execution_count": 42,
   "metadata": {},
   "outputs": [
    {
     "data": {
      "text/plain": [
       "array([[1.24053805e-12, 2.32480210e-16, 1.73624712e-10, 7.85653498e-08,\n",
       "        3.02002616e-17, 1.29786026e-12, 6.21811917e-25, 9.99999881e-01,\n",
       "        6.83330942e-13, 4.03277989e-09],\n",
       "       [8.10731950e-12, 2.02191942e-13, 1.00000000e+00, 5.07839539e-13,\n",
       "        4.18127403e-27, 8.10611151e-20, 1.13057881e-16, 1.85878380e-23,\n",
       "        1.01572159e-13, 2.15490345e-30],\n",
       "       [2.90720300e-06, 9.99950886e-01, 1.48361255e-06, 1.65709508e-08,\n",
       "        3.32197487e-05, 5.77814574e-10, 1.55251513e-07, 9.38231915e-06,\n",
       "        2.01051762e-06, 1.13389680e-08],\n",
       "       [1.00000000e+00, 1.98312642e-20, 5.46455069e-12, 1.69277721e-16,\n",
       "        3.60466683e-17, 4.67760943e-12, 5.48490246e-12, 2.24859719e-15,\n",
       "        9.49599150e-15, 1.06681114e-12],\n",
       "       [1.34730909e-12, 2.93534084e-14, 1.57230779e-14, 4.08851739e-16,\n",
       "        9.99998808e-01, 7.34731151e-14, 2.41218043e-13, 1.41644155e-10,\n",
       "        2.62888756e-12, 1.21136884e-06],\n",
       "       [1.47987521e-07, 9.99991655e-01, 2.56902446e-08, 2.34829378e-10,\n",
       "        2.03317495e-06, 6.47629845e-13, 4.05734890e-10, 6.05083187e-06,\n",
       "        1.12398233e-07, 1.64118574e-09],\n",
       "       [1.73465667e-15, 9.54886503e-10, 5.53243839e-14, 1.32844189e-13,\n",
       "        9.99959588e-01, 4.52451465e-10, 2.05211865e-13, 7.02293974e-08,\n",
       "        3.95691386e-05, 7.44054830e-07],\n",
       "       [2.46394155e-11, 1.17477647e-07, 2.86112709e-07, 1.08539348e-06,\n",
       "        7.02344987e-05, 2.58927480e-06, 7.59354927e-13, 6.15727291e-09,\n",
       "        1.31524255e-04, 9.99794185e-01],\n",
       "       [5.97373605e-13, 8.30715453e-20, 1.72822396e-13, 7.42022600e-13,\n",
       "        1.56944146e-13, 9.99726236e-01, 2.28373901e-04, 3.93692444e-16,\n",
       "        4.54071997e-05, 1.92480892e-10],\n",
       "       [1.35086376e-12, 7.36686392e-18, 1.85342545e-13, 4.50256454e-09,\n",
       "        1.10400879e-06, 1.25986305e-10, 1.80974049e-18, 3.54354484e-06,\n",
       "        1.10140763e-05, 9.99984384e-01],\n",
       "       [1.00000000e+00, 1.58717154e-20, 1.85598314e-10, 3.50265223e-16,\n",
       "        2.01707606e-22, 5.52017676e-12, 1.02237533e-12, 5.96464182e-18,\n",
       "        2.06796299e-12, 7.90411736e-13],\n",
       "       [1.18661285e-06, 1.63385717e-13, 4.12029081e-13, 1.02682281e-14,\n",
       "        8.72105461e-14, 2.37240751e-08, 9.99998689e-01, 2.76045152e-16,\n",
       "        8.38232808e-08, 2.05322752e-14],\n",
       "       [2.46673797e-12, 3.67338893e-16, 1.76377833e-13, 1.64175695e-09,\n",
       "        7.21965716e-06, 6.02242256e-09, 1.36228534e-16, 2.09369136e-06,\n",
       "        1.40244239e-07, 9.99990582e-01],\n",
       "       [1.00000000e+00, 2.19292802e-20, 1.54789940e-12, 9.62397925e-18,\n",
       "        1.74381469e-17, 9.75496420e-12, 3.45231385e-14, 1.10012758e-12,\n",
       "        3.58253878e-11, 1.44196122e-09],\n",
       "       [9.95970861e-10, 9.99999404e-01, 1.77061299e-09, 3.47445877e-08,\n",
       "        1.65568522e-07, 1.76610587e-10, 3.63026859e-10, 1.77650492e-10,\n",
       "        4.41032910e-07, 1.79371629e-10],\n",
       "       [5.46121254e-13, 1.50555109e-14, 7.02767011e-12, 7.78900448e-06,\n",
       "        1.88711119e-16, 9.99992132e-01, 4.36630793e-13, 2.59070702e-15,\n",
       "        1.49525107e-07, 6.21540579e-13],\n",
       "       [2.55286135e-13, 1.80266398e-19, 9.72912038e-15, 2.89415600e-13,\n",
       "        2.64999933e-08, 4.01646164e-12, 1.86282025e-18, 6.33495247e-08,\n",
       "        3.32967182e-10, 9.99999881e-01],\n",
       "       [9.55282294e-13, 4.60050489e-20, 2.09101653e-10, 2.22514657e-07,\n",
       "        1.20142798e-20, 1.02276130e-12, 9.30622157e-28, 9.99999762e-01,\n",
       "        8.02024899e-16, 5.44940038e-10],\n",
       "       [3.72732742e-08, 2.16928225e-10, 2.86116688e-07, 9.75724041e-01,\n",
       "        5.41083289e-11, 1.28700095e-03, 6.32881925e-09, 8.04000408e-11,\n",
       "        2.29885355e-02, 2.40584566e-08],\n",
       "       [2.54503280e-14, 9.00249059e-13, 5.59222590e-13, 3.52649327e-14,\n",
       "        1.00000000e+00, 9.75963581e-12, 9.25038515e-14, 1.37929304e-08,\n",
       "        2.05520809e-11, 2.96935365e-08],\n",
       "       [8.34876002e-10, 1.71947526e-11, 8.14925384e-13, 7.72606711e-07,\n",
       "        2.46235982e-06, 6.65523203e-07, 2.04845885e-17, 4.62874450e-04,\n",
       "        3.12864387e-07, 9.99532938e-01],\n",
       "       [6.52232535e-09, 3.94863260e-13, 4.94183600e-12, 7.06350126e-13,\n",
       "        1.03735298e-10, 9.49438254e-05, 9.99903679e-01, 1.25830477e-16,\n",
       "        1.35964297e-06, 1.19167545e-12],\n",
       "       [1.18475441e-07, 5.23767065e-13, 1.84689961e-14, 2.59869433e-15,\n",
       "        2.38711749e-07, 2.94517744e-08, 9.99999642e-01, 1.50314505e-12,\n",
       "        9.14809473e-09, 3.62109953e-10],\n",
       "       [7.38150589e-15, 4.00317082e-19, 4.93998350e-16, 1.52047497e-09,\n",
       "        2.25109467e-15, 1.00000000e+00, 1.50359156e-10, 7.38309568e-19,\n",
       "        2.54595095e-10, 3.03256958e-13],\n",
       "       [2.74296731e-11, 1.72928241e-10, 5.60581200e-11, 1.90147594e-12,\n",
       "        9.99997377e-01, 1.09225240e-09, 1.27677452e-10, 8.67842473e-08,\n",
       "        1.68030079e-09, 2.54798488e-06],\n",
       "       [1.00000000e+00, 1.31077818e-25, 4.22796184e-13, 1.31828395e-19,\n",
       "        3.09475616e-19, 6.45781228e-17, 9.56727683e-11, 1.39152045e-18,\n",
       "        3.53822679e-12, 1.31144704e-12],\n",
       "       [1.32463845e-10, 2.04484823e-12, 8.38744463e-10, 2.21191002e-07,\n",
       "        6.23360738e-12, 5.51337509e-09, 4.99822108e-20, 9.99770701e-01,\n",
       "        4.03240531e-11, 2.29112033e-04],\n",
       "       [1.23787595e-17, 1.11633301e-17, 5.58263120e-18, 1.49174016e-17,\n",
       "        1.00000000e+00, 4.67765559e-15, 4.58004074e-18, 3.25088562e-13,\n",
       "        3.16367958e-14, 3.43715001e-10],\n",
       "       [1.00000000e+00, 1.14491620e-20, 6.98507918e-09, 1.54815176e-14,\n",
       "        9.49693109e-23, 1.20977745e-13, 3.32900451e-18, 6.05146900e-14,\n",
       "        1.51757242e-12, 2.38463301e-15],\n",
       "       [1.04022204e-08, 9.99937057e-01, 1.14000997e-07, 3.90607056e-07,\n",
       "        1.67747214e-06, 6.71627092e-08, 2.91770719e-09, 9.25021979e-08,\n",
       "        6.05431378e-05, 2.76006507e-09],\n",
       "       [1.77003284e-17, 4.03951336e-18, 1.22305950e-14, 1.00000000e+00,\n",
       "        8.79619066e-18, 3.78950704e-10, 7.64818496e-25, 3.53458934e-13,\n",
       "        1.56192659e-13, 1.80355386e-09],\n",
       "       [9.93521354e-09, 9.99941707e-01, 1.56247197e-07, 4.92850518e-07,\n",
       "        3.90150635e-05, 1.74971035e-07, 1.56489810e-09, 3.08108565e-06,\n",
       "        1.09719449e-05, 4.58433306e-06],\n",
       "       [6.13617846e-21, 2.16531698e-17, 3.17720703e-14, 1.00000000e+00,\n",
       "        1.81217302e-18, 7.14331649e-11, 2.92157886e-23, 2.48017335e-16,\n",
       "        1.20525009e-12, 2.25220258e-15],\n",
       "       [3.86630163e-05, 3.48845410e-13, 3.09400700e-10, 8.48548425e-18,\n",
       "        9.99961257e-01, 6.94593471e-13, 7.67027615e-08, 1.42320766e-13,\n",
       "        7.55014974e-12, 3.31176880e-15],\n",
       "       [2.54789374e-14, 2.02360234e-16, 4.56328486e-09, 1.61703824e-08,\n",
       "        5.75647590e-20, 1.47495071e-18, 2.61175914e-26, 1.00000000e+00,\n",
       "        3.15856391e-12, 6.58719173e-13],\n",
       "       [2.26255999e-13, 4.71903908e-15, 1.00000000e+00, 2.28091590e-08,\n",
       "        4.49015604e-24, 7.56107666e-16, 1.37836951e-20, 1.66288714e-17,\n",
       "        1.37631684e-10, 3.56473948e-16],\n",
       "       [1.82398784e-11, 5.25269864e-14, 2.34290728e-05, 9.26862185e-07,\n",
       "        8.70472069e-17, 1.47183860e-13, 1.57217580e-21, 9.99975681e-01,\n",
       "        9.34620784e-11, 2.36671149e-09],\n",
       "       [5.34808287e-09, 9.99984860e-01, 1.21203252e-08, 1.14202470e-08,\n",
       "        2.02221599e-06, 6.09265749e-09, 4.53841464e-10, 2.45217620e-07,\n",
       "        1.29092268e-05, 4.76699427e-08],\n",
       "       [6.75824822e-07, 7.57171659e-09, 9.99932051e-01, 6.70928275e-05,\n",
       "        2.75356577e-18, 2.53922976e-11, 6.69334217e-13, 2.40117978e-11,\n",
       "        6.91811621e-08, 9.14161301e-17],\n",
       "       [4.09067589e-08, 9.99998093e-01, 3.35814510e-09, 1.14484833e-09,\n",
       "        4.52633344e-08, 2.73600396e-11, 5.83366999e-09, 8.11819056e-10,\n",
       "        1.94889935e-06, 5.92970326e-11],\n",
       "       [1.08260738e-05, 9.99320865e-01, 4.82540418e-05, 1.14836366e-05,\n",
       "        6.36470577e-05, 9.14817406e-07, 3.41884493e-06, 1.14323942e-04,\n",
       "        4.21128352e-04, 5.13409077e-06],\n",
       "       [2.47187461e-11, 1.48366163e-11, 8.77253042e-05, 1.24689514e-05,\n",
       "        3.40223916e-13, 3.64494650e-11, 9.13126682e-20, 9.99899745e-01,\n",
       "        3.45517615e-10, 4.25803082e-09],\n",
       "       [5.67059044e-17, 7.60914769e-13, 2.43667479e-19, 8.92653679e-17,\n",
       "        9.99999881e-01, 2.23562319e-14, 6.71214827e-15, 2.19733509e-10,\n",
       "        1.52060378e-11, 9.67371676e-08],\n",
       "       [4.46170141e-12, 1.26086430e-08, 9.99999523e-01, 1.21773155e-07,\n",
       "        3.64216589e-07, 6.01440610e-13, 7.23449425e-11, 3.20460747e-09,\n",
       "        1.07031173e-09, 1.96820612e-17],\n",
       "       [3.51889698e-12, 2.82531665e-10, 3.30252199e-08, 9.99999762e-01,\n",
       "        2.19719954e-11, 2.77060280e-07, 1.07611714e-13, 3.18855303e-10,\n",
       "        2.18697611e-08, 4.55068705e-10],\n",
       "       [1.18120278e-08, 1.31724357e-13, 7.44779863e-11, 1.88513980e-07,\n",
       "        9.92568183e-14, 9.99966621e-01, 1.48545372e-08, 5.06738911e-13,\n",
       "        3.31751253e-05, 1.12725989e-08],\n",
       "       [2.08311354e-11, 9.99913931e-01, 2.00754343e-07, 1.13271790e-06,\n",
       "        1.20136656e-06, 2.80266956e-08, 2.19871309e-11, 4.24975033e-09,\n",
       "        8.34196544e-05, 9.73305991e-10],\n",
       "       [1.64581749e-12, 1.12864362e-13, 1.00000000e+00, 5.70636149e-10,\n",
       "        1.23473568e-16, 1.22344496e-17, 2.08812324e-14, 3.83394768e-15,\n",
       "        3.57904006e-12, 1.43752803e-18],\n",
       "       [3.02178590e-18, 4.43994210e-16, 1.26741704e-20, 4.90127462e-16,\n",
       "        9.99999285e-01, 2.24829031e-12, 2.26743751e-19, 1.40882651e-12,\n",
       "        8.39824321e-11, 7.30779618e-07],\n",
       "       [1.61141973e-15, 9.96943717e-19, 2.25525235e-17, 2.67156508e-18,\n",
       "        1.00000000e+00, 3.31777249e-14, 6.98707314e-14, 8.57840275e-12,\n",
       "        9.62940231e-13, 3.06412531e-08],\n",
       "       [9.20341881e-06, 4.78286421e-12, 4.09514228e-10, 2.48541101e-11,\n",
       "        5.56313440e-10, 8.98093731e-07, 9.99989867e-01, 4.80166842e-15,\n",
       "        3.89022015e-09, 5.47801152e-15],\n",
       "       [7.59927467e-16, 2.49962318e-18, 9.65885705e-12, 1.00000000e+00,\n",
       "        5.63568733e-21, 2.11727269e-13, 5.35604448e-24, 1.20446643e-12,\n",
       "        1.44083539e-11, 3.14456103e-14],\n",
       "       [9.13648389e-13, 1.17461128e-17, 3.90275380e-16, 3.91287447e-09,\n",
       "        1.94262602e-13, 1.00000000e+00, 1.22457626e-11, 9.28532763e-15,\n",
       "        5.94313487e-10, 2.60727967e-11],\n",
       "       [4.72083483e-11, 5.16421690e-14, 1.94001412e-12, 4.40349680e-07,\n",
       "        3.80125488e-12, 9.99994993e-01, 2.85012486e-10, 1.33712269e-12,\n",
       "        3.47128071e-06, 1.01896649e-06],\n",
       "       [3.58448160e-10, 3.18688867e-17, 6.27799314e-17, 5.24296839e-21,\n",
       "        1.79849076e-16, 1.10323445e-10, 1.00000000e+00, 1.67296219e-21,\n",
       "        1.29981387e-10, 3.29246628e-19],\n",
       "       [1.00000000e+00, 3.45962719e-16, 5.86577786e-10, 9.06915133e-17,\n",
       "        2.20693143e-15, 3.68085319e-11, 3.42977253e-12, 1.71478649e-13,\n",
       "        8.94597108e-09, 4.71446504e-13],\n",
       "       [1.80837481e-18, 2.93941526e-19, 1.33279024e-20, 3.31159658e-21,\n",
       "        1.00000000e+00, 2.48657872e-15, 1.18722070e-16, 2.02056731e-12,\n",
       "        1.63884612e-14, 5.21091026e-12],\n",
       "       [1.98569137e-06, 9.99817789e-01, 1.15250396e-06, 4.45313830e-08,\n",
       "        1.54689533e-05, 1.28350081e-10, 6.29644381e-09, 1.59964038e-04,\n",
       "        3.45179092e-06, 6.40312052e-08],\n",
       "       [1.29589434e-15, 5.55479408e-21, 4.08764865e-16, 5.59753563e-11,\n",
       "        1.18825865e-08, 4.94061805e-11, 1.54074647e-21, 9.79140324e-09,\n",
       "        1.50356221e-11, 1.00000000e+00],\n",
       "       [7.28594500e-07, 1.96559524e-09, 1.44154545e-12, 1.05805657e-06,\n",
       "        8.31247036e-08, 9.99934435e-01, 7.04592082e-08, 4.11495785e-05,\n",
       "        2.02657466e-05, 2.11986708e-06],\n",
       "       [3.20682571e-17, 1.04467990e-18, 1.83721870e-15, 6.22098412e-07,\n",
       "        8.91971150e-20, 8.25172014e-11, 4.86746534e-28, 9.99999404e-01,\n",
       "        4.17687908e-16, 1.29371436e-09],\n",
       "       [3.79473342e-10, 4.63715069e-16, 7.12423798e-06, 2.97751121e-05,\n",
       "        1.47303709e-15, 2.05926781e-07, 4.11697195e-12, 1.32845151e-13,\n",
       "        9.99962926e-01, 1.85363795e-08],\n",
       "       [6.84088093e-08, 5.07005216e-10, 1.37281930e-07, 4.68488679e-07,\n",
       "        5.53421160e-06, 2.63692103e-02, 5.92052594e-08, 6.43721796e-05,\n",
       "        5.09896781e-03, 9.68461156e-01],\n",
       "       [2.53231111e-13, 1.56106631e-14, 6.54096875e-05, 9.99934077e-01,\n",
       "        4.34389200e-17, 1.83243676e-12, 7.80416215e-20, 6.36413275e-12,\n",
       "        4.60794752e-07, 8.67257155e-10],\n",
       "       [2.89735442e-19, 1.80661857e-22, 1.77039841e-11, 6.93781203e-07,\n",
       "        2.76448949e-16, 1.75080449e-18, 2.52280183e-27, 9.99999285e-01,\n",
       "        3.46225734e-13, 6.73407244e-15],\n",
       "       [3.82204629e-10, 2.65490684e-07, 1.16771726e-09, 1.73091951e-06,\n",
       "        9.94646490e-01, 6.24175709e-06, 6.51116272e-10, 4.70129891e-07,\n",
       "        4.07197922e-06, 5.34065859e-03],\n",
       "       [1.35448296e-04, 8.76229506e-11, 9.24986390e-12, 5.34385904e-13,\n",
       "        2.01230588e-08, 3.52025209e-09, 9.99864459e-01, 3.36762465e-13,\n",
       "        2.12334417e-08, 2.65696076e-10],\n",
       "       [6.33886042e-15, 4.19966770e-15, 1.98459248e-15, 2.20225842e-13,\n",
       "        9.99992609e-01, 4.79945239e-13, 9.47331338e-14, 1.96657361e-11,\n",
       "        1.01554133e-10, 7.34405967e-06],\n",
       "       [2.01756598e-17, 5.02830790e-19, 5.86101914e-12, 1.00000000e+00,\n",
       "        1.38737947e-20, 5.56827067e-12, 4.92513375e-25, 3.03369051e-14,\n",
       "        5.19275900e-10, 4.26020590e-12],\n",
       "       [1.00000000e+00, 8.69091285e-21, 1.63222266e-11, 4.47887360e-13,\n",
       "        1.92302579e-23, 9.96122906e-11, 1.26298347e-11, 4.57557272e-17,\n",
       "        1.25684944e-13, 2.04645779e-11],\n",
       "       [2.03685636e-12, 2.66080170e-19, 2.40291897e-10, 6.53164648e-07,\n",
       "        5.68179506e-20, 5.94990767e-12, 2.45555242e-25, 9.99999404e-01,\n",
       "        4.21081339e-15, 9.45355905e-10],\n",
       "       [1.00000000e+00, 2.67338058e-25, 7.70762120e-15, 8.50147698e-22,\n",
       "        2.83665112e-25, 1.66065031e-16, 5.05108311e-14, 3.26889596e-22,\n",
       "        1.74543357e-15, 2.78815252e-15],\n",
       "       [4.59803584e-11, 2.18774764e-20, 1.00000000e+00, 5.13265563e-09,\n",
       "        5.21005835e-26, 2.29007851e-16, 7.67461255e-23, 4.78518685e-15,\n",
       "        4.25017009e-14, 1.20452707e-18],\n",
       "       [7.76149012e-09, 5.99402394e-09, 6.19638882e-08, 8.53696838e-06,\n",
       "        1.84440623e-08, 1.24663987e-10, 4.94616246e-18, 9.04336484e-05,\n",
       "        8.88562354e-04, 9.99012351e-01],\n",
       "       [9.13230025e-09, 9.99982476e-01, 1.34086986e-09, 7.80336240e-09,\n",
       "        1.16223164e-05, 1.52642610e-08, 4.11404466e-09, 4.33614247e-08,\n",
       "        5.78497338e-06, 9.30666957e-08],\n",
       "       [1.22332244e-16, 2.84388160e-12, 8.42585099e-11, 1.38703297e-06,\n",
       "        4.03719808e-10, 9.55525849e-12, 2.63553443e-19, 9.99998569e-01,\n",
       "        4.62918459e-09, 9.83668369e-10],\n",
       "       [4.10944514e-15, 8.33307083e-14, 2.57512484e-11, 9.99999881e-01,\n",
       "        3.03208043e-15, 8.17534911e-08, 2.03483304e-17, 1.20743170e-15,\n",
       "        1.21088615e-08, 2.17362087e-10],\n",
       "       [3.76984055e-10, 5.64255370e-12, 1.00000000e+00, 1.01496790e-10,\n",
       "        1.00381611e-19, 4.15284584e-15, 4.59694717e-19, 4.77972089e-12,\n",
       "        1.04731827e-10, 4.96107604e-13],\n",
       "       [1.12121121e-08, 1.24139987e-07, 1.63982872e-08, 4.34702724e-06,\n",
       "        2.95226346e-04, 1.02245338e-07, 7.32338409e-12, 9.72380349e-07,\n",
       "        1.32391239e-02, 9.86460090e-01],\n",
       "       [2.28137075e-11, 1.76470622e-15, 2.33416486e-09, 1.90145059e-07,\n",
       "        1.38688389e-15, 4.83153610e-13, 1.56852547e-24, 9.99998689e-01,\n",
       "        7.90227261e-08, 9.46246075e-07],\n",
       "       [4.48920501e-09, 3.20420329e-10, 1.20179110e-11, 5.41775756e-11,\n",
       "        2.97546649e-07, 2.96475378e-07, 2.49338144e-17, 9.97099161e-01,\n",
       "        2.69377715e-10, 2.90031545e-03],\n",
       "       [2.58571617e-07, 2.23333911e-13, 2.67609324e-10, 3.24387700e-14,\n",
       "        8.15405306e-13, 2.40998219e-07, 9.99999523e-01, 1.75285252e-15,\n",
       "        1.03239961e-09, 2.84981660e-14],\n",
       "       [8.14029087e-20, 1.01727681e-20, 1.00000000e+00, 8.77910686e-15,\n",
       "        1.44654435e-25, 1.17601490e-24, 8.21181338e-26, 6.40530533e-18,\n",
       "        1.64371534e-16, 4.48277543e-26],\n",
       "       [2.36363793e-11, 3.15963781e-13, 1.19273742e-12, 1.55940243e-11,\n",
       "        3.97773134e-11, 9.83238768e-11, 1.08001119e-20, 9.99993324e-01,\n",
       "        1.28037002e-12, 6.73402474e-06],\n",
       "       [1.34617285e-12, 4.25861738e-14, 1.23304123e-12, 1.04011980e-10,\n",
       "        5.81175497e-10, 2.34659536e-09, 2.07552031e-10, 7.66116364e-14,\n",
       "        1.00000000e+00, 7.06319170e-11],\n",
       "       [3.76206576e-19, 1.32509677e-17, 1.94266149e-22, 4.06557782e-18,\n",
       "        1.00000000e+00, 3.10699512e-14, 8.67214831e-18, 2.64826754e-11,\n",
       "        1.03001071e-12, 4.50884580e-10],\n",
       "       [3.27204843e-13, 1.73900201e-13, 4.60466643e-09, 3.69395270e-09,\n",
       "        1.93856526e-17, 6.38811200e-15, 1.33796312e-24, 1.00000000e+00,\n",
       "        2.13284945e-09, 8.28611579e-09],\n",
       "       [9.18360067e-15, 2.09929643e-12, 1.79221388e-10, 9.99985456e-01,\n",
       "        5.48810095e-11, 6.55369892e-09, 6.61095980e-17, 1.44975584e-05,\n",
       "        5.29778443e-11, 1.02742142e-12],\n",
       "       [5.85594073e-10, 4.75211572e-15, 7.82792749e-14, 4.85808550e-19,\n",
       "        4.86892193e-11, 1.17517055e-11, 1.00000000e+00, 2.46791135e-18,\n",
       "        1.14106927e-11, 7.09643624e-19],\n",
       "       [4.23576836e-07, 9.99994397e-01, 3.23316442e-07, 9.98315208e-09,\n",
       "        3.53219639e-06, 1.03492674e-11, 2.87899038e-08, 7.68803332e-08,\n",
       "        1.11169663e-06, 3.19222371e-10],\n",
       "       [5.70601238e-13, 1.31069600e-16, 1.15000943e-11, 9.99997616e-01,\n",
       "        3.23146610e-17, 2.15695508e-07, 2.28881942e-20, 3.21009118e-15,\n",
       "        1.38065786e-07, 2.03227978e-06],\n",
       "       [8.54351312e-11, 4.77224631e-14, 1.64801321e-12, 7.72007241e-14,\n",
       "        8.70953830e-12, 6.34918784e-09, 1.00000000e+00, 5.57151961e-20,\n",
       "        1.05099085e-09, 2.56904669e-15],\n",
       "       [5.57634792e-07, 2.86481338e-07, 5.59996988e-06, 1.54876930e-03,\n",
       "        3.00736260e-02, 4.48417950e-07, 5.94563687e-08, 2.93206685e-04,\n",
       "        2.44241431e-02, 9.43653286e-01],\n",
       "       [2.82140132e-12, 1.08035004e-14, 4.25616443e-12, 9.99994993e-01,\n",
       "        1.32931900e-15, 7.91263915e-07, 9.94926441e-24, 3.45042056e-14,\n",
       "        2.89444047e-09, 4.13666521e-06],\n",
       "       [1.71514719e-10, 9.99863625e-01, 5.84341180e-08, 2.20977819e-10,\n",
       "        7.68350628e-09, 7.65510572e-11, 1.86171889e-09, 3.94128117e-13,\n",
       "        1.36403425e-04, 2.53363650e-12],\n",
       "       [5.64373659e-10, 2.29388340e-12, 2.47895628e-11, 2.11972272e-13,\n",
       "        9.99983430e-01, 7.58436543e-12, 5.90934462e-07, 7.81075898e-12,\n",
       "        1.43337675e-05, 1.66930874e-06],\n",
       "       [3.83745373e-08, 9.92175162e-01, 2.25826057e-06, 2.16421176e-04,\n",
       "        7.50995358e-04, 3.63583677e-05, 1.41935497e-09, 1.14696348e-04,\n",
       "        5.52627444e-03, 1.17787695e-03],\n",
       "       [8.43593993e-17, 3.27970452e-13, 7.10286201e-07, 3.21752481e-07,\n",
       "        1.04664487e-12, 3.69698160e-15, 5.19288414e-20, 9.99998689e-01,\n",
       "        2.14503075e-07, 2.93277577e-15],\n",
       "       [1.08449976e-05, 2.76344753e-14, 9.46500034e-09, 7.45547304e-15,\n",
       "        3.20925232e-14, 9.20327511e-06, 9.99979973e-01, 8.93289094e-19,\n",
       "        5.54848292e-08, 2.41209440e-16],\n",
       "       [3.74578748e-17, 9.15777896e-22, 2.33974132e-15, 2.33899098e-12,\n",
       "        2.51353365e-12, 1.59698474e-14, 5.74922522e-23, 9.08130071e-10,\n",
       "        1.73928250e-11, 1.00000000e+00]], dtype=float32)"
      ]
     },
     "execution_count": 42,
     "metadata": {},
     "output_type": "execute_result"
    }
   ],
   "source": [
    "y_out[0:100]"
   ]
  },
  {
   "cell_type": "code",
   "execution_count": 43,
   "metadata": {},
   "outputs": [
    {
     "data": {
      "text/plain": [
       "array([[7],\n",
       "       [2],\n",
       "       [1],\n",
       "       [0],\n",
       "       [4],\n",
       "       [1],\n",
       "       [4],\n",
       "       [9],\n",
       "       [5],\n",
       "       [9],\n",
       "       [0],\n",
       "       [6],\n",
       "       [9],\n",
       "       [0],\n",
       "       [1],\n",
       "       [5],\n",
       "       [9],\n",
       "       [7],\n",
       "       [3],\n",
       "       [4],\n",
       "       [9],\n",
       "       [6],\n",
       "       [6],\n",
       "       [5],\n",
       "       [4],\n",
       "       [0],\n",
       "       [7],\n",
       "       [4],\n",
       "       [0],\n",
       "       [1],\n",
       "       [3],\n",
       "       [1],\n",
       "       [3],\n",
       "       [4],\n",
       "       [7],\n",
       "       [2],\n",
       "       [7],\n",
       "       [1],\n",
       "       [2],\n",
       "       [1],\n",
       "       [1],\n",
       "       [7],\n",
       "       [4],\n",
       "       [2],\n",
       "       [3],\n",
       "       [5],\n",
       "       [1],\n",
       "       [2],\n",
       "       [4],\n",
       "       [4],\n",
       "       [6],\n",
       "       [3],\n",
       "       [5],\n",
       "       [5],\n",
       "       [6],\n",
       "       [0],\n",
       "       [4],\n",
       "       [1],\n",
       "       [9],\n",
       "       [5],\n",
       "       [7],\n",
       "       [8],\n",
       "       [9],\n",
       "       [3],\n",
       "       [7],\n",
       "       [4],\n",
       "       [6],\n",
       "       [4],\n",
       "       [3],\n",
       "       [0],\n",
       "       [7],\n",
       "       [0],\n",
       "       [2],\n",
       "       [9],\n",
       "       [1],\n",
       "       [7],\n",
       "       [3],\n",
       "       [2],\n",
       "       [9],\n",
       "       [7],\n",
       "       [7],\n",
       "       [6],\n",
       "       [2],\n",
       "       [7],\n",
       "       [8],\n",
       "       [4],\n",
       "       [7],\n",
       "       [3],\n",
       "       [6],\n",
       "       [1],\n",
       "       [3],\n",
       "       [6],\n",
       "       [9],\n",
       "       [3],\n",
       "       [1],\n",
       "       [4],\n",
       "       [1],\n",
       "       [7],\n",
       "       [6],\n",
       "       [9]], dtype=int64)"
      ]
     },
     "execution_count": 43,
     "metadata": {},
     "output_type": "execute_result"
    }
   ],
   "source": [
    "guess_out.reshape(-1, 1)[:100]"
   ]
  }
 ],
 "metadata": {
  "kernelspec": {
   "display_name": "python36",
   "language": "python",
   "name": "python36"
  },
  "language_info": {
   "codemirror_mode": {
    "name": "ipython",
    "version": 3
   },
   "file_extension": ".py",
   "mimetype": "text/x-python",
   "name": "python",
   "nbconvert_exporter": "python",
   "pygments_lexer": "ipython3",
   "version": "3.6.12"
  }
 },
 "nbformat": 4,
 "nbformat_minor": 4
}
