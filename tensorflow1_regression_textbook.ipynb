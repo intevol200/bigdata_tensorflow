{
 "cells": [
  {
   "cell_type": "code",
   "execution_count": 1,
   "metadata": {},
   "outputs": [],
   "source": [
    "import numpy as np\n",
    "import pandas as pd"
   ]
  },
  {
   "cell_type": "code",
   "execution_count": 2,
   "metadata": {},
   "outputs": [],
   "source": [
    "data = np.genfromtxt(\"linear_sample.txt\", skip_header=True, delimiter='\\t')"
   ]
  },
  {
   "cell_type": "code",
   "execution_count": 3,
   "metadata": {},
   "outputs": [
    {
     "data": {
      "text/plain": [
       "(199, 4)"
      ]
     },
     "execution_count": 3,
     "metadata": {},
     "output_type": "execute_result"
    }
   ],
   "source": [
    "data.shape"
   ]
  },
  {
   "cell_type": "code",
   "execution_count": 4,
   "metadata": {},
   "outputs": [
    {
     "name": "stdout",
     "output_type": "stream",
     "text": [
      "[[ 0.01        4.03        0.96168422  4.99168422]\n",
      " [ 0.02        4.06        0.04059542  4.10059542]\n",
      " [ 0.03        4.09        0.47561024  4.56561024]\n",
      " [ 0.04        4.12        0.979893    5.09989301]\n",
      " [ 0.05        4.15       -0.54722574  3.60277426]]\n"
     ]
    }
   ],
   "source": [
    "print(data[0:5, ])"
   ]
  },
  {
   "cell_type": "code",
   "execution_count": 5,
   "metadata": {},
   "outputs": [],
   "source": [
    "x_input = data[:, 0]"
   ]
  },
  {
   "cell_type": "code",
   "execution_count": 6,
   "metadata": {},
   "outputs": [
    {
     "data": {
      "text/plain": [
       "numpy.ndarray"
      ]
     },
     "execution_count": 6,
     "metadata": {},
     "output_type": "execute_result"
    }
   ],
   "source": [
    "type(x_input)"
   ]
  },
  {
   "cell_type": "code",
   "execution_count": 7,
   "metadata": {},
   "outputs": [
    {
     "data": {
      "text/plain": [
       "(199,)"
      ]
     },
     "execution_count": 7,
     "metadata": {},
     "output_type": "execute_result"
    }
   ],
   "source": [
    "x_input.shape"
   ]
  },
  {
   "cell_type": "code",
   "execution_count": 8,
   "metadata": {},
   "outputs": [],
   "source": [
    "y_true = data[:, 3]"
   ]
  },
  {
   "cell_type": "code",
   "execution_count": 9,
   "metadata": {},
   "outputs": [
    {
     "data": {
      "text/plain": [
       "(199,)"
      ]
     },
     "execution_count": 9,
     "metadata": {},
     "output_type": "execute_result"
    }
   ],
   "source": [
    "y_true.shape"
   ]
  },
  {
   "cell_type": "code",
   "execution_count": 11,
   "metadata": {},
   "outputs": [],
   "source": [
    "y_line = data[:, 1]"
   ]
  },
  {
   "cell_type": "markdown",
   "metadata": {},
   "source": [
    "# 그래프"
   ]
  },
  {
   "cell_type": "code",
   "execution_count": 14,
   "metadata": {},
   "outputs": [],
   "source": [
    "import matplotlib.pyplot as plt"
   ]
  },
  {
   "cell_type": "code",
   "execution_count": 17,
   "metadata": {},
   "outputs": [
    {
     "data": {
      "image/png": "[encoded data removed]",
      "text/plain": [
       "<Figure size 432x288 with 1 Axes>"
      ]
     },
     "metadata": {
      "needs_background": "light"
     },
     "output_type": "display_data"
    },
    {
     "data": {
      "text/plain": [
       "<Figure size 2880x720 with 0 Axes>"
      ]
     },
     "metadata": {},
     "output_type": "display_data"
    }
   ],
   "source": [
    "plt.scatter(x_input, y_true)\n",
    "plt.grid(True, axis='both', color='g', linestyle='--')\n",
    "plt.xticks(np.arange(0, 2, step = 0.1), rotation='vertical')\n",
    "plt.plot(x_input, y_line, color='r')\n",
    "plt.figure(figsize=(40, 10))\n",
    "plt.show()"
   ]
  },
  {
   "cell_type": "markdown",
   "metadata": {},
   "source": [
    "# tensorflow를 사용한 회귀식"
   ]
  },
  {
   "cell_type": "code",
   "execution_count": 24,
   "metadata": {},
   "outputs": [
    {
     "data": {
      "text/plain": [
       "'2.3.1'"
      ]
     },
     "execution_count": 24,
     "metadata": {},
     "output_type": "execute_result"
    }
   ],
   "source": [
    "import tensorflow as tf\n",
    "tf.__version__"
   ]
  },
  {
   "cell_type": "code",
   "execution_count": 25,
   "metadata": {},
   "outputs": [
    {
     "name": "stdout",
     "output_type": "stream",
     "text": [
      "WARNING:tensorflow:From C:\\Users\\Kwangsam\\anaconda3\\lib\\site-packages\\tensorflow\\python\\compat\\v2_compat.py:96: disable_resource_variables (from tensorflow.python.ops.variable_scope) is deprecated and will be removed in a future version.\n",
      "Instructions for updating:\n",
      "non-resource variables are not supported in the long term\n"
     ]
    }
   ],
   "source": [
    "import tensorflow.compat.v1 as tf\n",
    "tf.disable_v2_behavior()"
   ]
  },
  {
   "cell_type": "code",
   "execution_count": 32,
   "metadata": {},
   "outputs": [],
   "source": [
    "learning_rate = 0.001\n",
    "display_step = 100\n",
    "training_epoch = 50000"
   ]
  },
  {
   "cell_type": "code",
   "execution_count": 27,
   "metadata": {},
   "outputs": [],
   "source": [
    "x = tf.placeholder(tf.float32)\n",
    "y = tf.placeholder(tf.float32)"
   ]
  },
  {
   "cell_type": "code",
   "execution_count": 28,
   "metadata": {},
   "outputs": [],
   "source": [
    "a = tf.Variable(0.5)\n",
    "b = tf.Variable(0.5)"
   ]
  },
  {
   "cell_type": "code",
   "execution_count": 29,
   "metadata": {},
   "outputs": [],
   "source": [
    "y_estimated = a * x + b"
   ]
  },
  {
   "cell_type": "code",
   "execution_count": 30,
   "metadata": {},
   "outputs": [],
   "source": [
    "error = tf.reduce_mean(tf.square(y - y_estimated))"
   ]
  },
  {
   "cell_type": "code",
   "execution_count": 33,
   "metadata": {},
   "outputs": [],
   "source": [
    "optimizer = tf.train.GradientDescentOptimizer(learning_rate)"
   ]
  },
  {
   "cell_type": "code",
   "execution_count": 35,
   "metadata": {},
   "outputs": [],
   "source": [
    "model = optimizer.minimize(error)"
   ]
  },
  {
   "cell_type": "code",
   "execution_count": 37,
   "metadata": {},
   "outputs": [],
   "source": [
    "sess = tf.Session()"
   ]
  },
  {
   "cell_type": "code",
   "execution_count": 39,
   "metadata": {},
   "outputs": [],
   "source": [
    "init = tf.global_variables_initializer()"
   ]
  },
  {
   "cell_type": "code",
   "execution_count": 40,
   "metadata": {},
   "outputs": [],
   "source": [
    "sess.run(init)"
   ]
  },
  {
   "cell_type": "code",
   "execution_count": 42,
   "metadata": {},
   "outputs": [
    {
     "name": "stdout",
     "output_type": "stream",
     "text": [
      "0 error =  0.32020184   a =  3.0024796   b =  4.013728\n",
      "100 error =  0.32020184   a =  3.0024796   b =  4.013728\n",
      "200 error =  0.32020184   a =  3.0024796   b =  4.013728\n",
      "300 error =  0.32020184   a =  3.0024796   b =  4.013728\n",
      "400 error =  0.32020184   a =  3.0024796   b =  4.013728\n",
      "500 error =  0.32020184   a =  3.0024796   b =  4.013728\n",
      "600 error =  0.32020184   a =  3.0024796   b =  4.013728\n",
      "700 error =  0.32020184   a =  3.0024796   b =  4.013728\n",
      "800 error =  0.32020184   a =  3.0024796   b =  4.013728\n",
      "900 error =  0.32020184   a =  3.0024796   b =  4.013728\n",
      "1000 error =  0.32020184   a =  3.0024796   b =  4.013728\n",
      "1100 error =  0.32020184   a =  3.0024796   b =  4.013728\n",
      "1200 error =  0.32020184   a =  3.0024796   b =  4.013728\n",
      "1300 error =  0.32020184   a =  3.0024796   b =  4.013728\n",
      "1400 error =  0.32020184   a =  3.0024796   b =  4.013728\n",
      "1500 error =  0.32020184   a =  3.0024796   b =  4.013728\n",
      "1600 error =  0.32020184   a =  3.0024796   b =  4.013728\n",
      "1700 error =  0.32020184   a =  3.0024796   b =  4.013728\n",
      "1800 error =  0.32020184   a =  3.0024796   b =  4.013728\n",
      "1900 error =  0.32020184   a =  3.0024796   b =  4.013728\n",
      "2000 error =  0.32020184   a =  3.0024796   b =  4.013728\n",
      "2100 error =  0.32020184   a =  3.0024796   b =  4.013728\n",
      "2200 error =  0.32020184   a =  3.0024796   b =  4.013728\n",
      "2300 error =  0.32020184   a =  3.0024796   b =  4.013728\n",
      "2400 error =  0.32020184   a =  3.0024796   b =  4.013728\n",
      "2500 error =  0.32020184   a =  3.0024796   b =  4.013728\n",
      "2600 error =  0.32020184   a =  3.0024796   b =  4.013728\n",
      "2700 error =  0.32020184   a =  3.0024796   b =  4.013728\n",
      "2800 error =  0.32020184   a =  3.0024796   b =  4.013728\n",
      "2900 error =  0.32020184   a =  3.0024796   b =  4.013728\n",
      "3000 error =  0.32020184   a =  3.0024796   b =  4.013728\n",
      "3100 error =  0.32020184   a =  3.0024796   b =  4.013728\n",
      "3200 error =  0.32020184   a =  3.0024796   b =  4.013728\n",
      "3300 error =  0.32020184   a =  3.0024796   b =  4.013728\n",
      "3400 error =  0.32020184   a =  3.0024796   b =  4.013728\n",
      "3500 error =  0.32020184   a =  3.0024796   b =  4.013728\n",
      "3600 error =  0.32020184   a =  3.0024796   b =  4.013728\n",
      "3700 error =  0.32020184   a =  3.0024796   b =  4.013728\n",
      "3800 error =  0.32020184   a =  3.0024796   b =  4.013728\n",
      "3900 error =  0.32020184   a =  3.0024796   b =  4.013728\n",
      "4000 error =  0.32020184   a =  3.0024796   b =  4.013728\n",
      "4100 error =  0.32020184   a =  3.0024796   b =  4.013728\n",
      "4200 error =  0.32020184   a =  3.0024796   b =  4.013728\n",
      "4300 error =  0.32020184   a =  3.0024796   b =  4.013728\n",
      "4400 error =  0.32020184   a =  3.0024796   b =  4.013728\n",
      "4500 error =  0.32020184   a =  3.0024796   b =  4.013728\n",
      "4600 error =  0.32020184   a =  3.0024796   b =  4.013728\n",
      "4700 error =  0.32020184   a =  3.0024796   b =  4.013728\n",
      "4800 error =  0.32020184   a =  3.0024796   b =  4.013728\n",
      "4900 error =  0.32020184   a =  3.0024796   b =  4.013728\n",
      "5000 error =  0.32020184   a =  3.0024796   b =  4.013728\n",
      "5100 error =  0.32020184   a =  3.0024796   b =  4.013728\n",
      "5200 error =  0.32020184   a =  3.0024796   b =  4.013728\n",
      "5300 error =  0.32020184   a =  3.0024796   b =  4.013728\n",
      "5400 error =  0.32020184   a =  3.0024796   b =  4.013728\n",
      "5500 error =  0.32020184   a =  3.0024796   b =  4.013728\n",
      "5600 error =  0.32020184   a =  3.0024796   b =  4.013728\n",
      "5700 error =  0.32020184   a =  3.0024796   b =  4.013728\n",
      "5800 error =  0.32020184   a =  3.0024796   b =  4.013728\n",
      "5900 error =  0.32020184   a =  3.0024796   b =  4.013728\n",
      "6000 error =  0.32020184   a =  3.0024796   b =  4.013728\n",
      "6100 error =  0.32020184   a =  3.0024796   b =  4.013728\n",
      "6200 error =  0.32020184   a =  3.0024796   b =  4.013728\n",
      "6300 error =  0.32020184   a =  3.0024796   b =  4.013728\n",
      "6400 error =  0.32020184   a =  3.0024796   b =  4.013728\n",
      "6500 error =  0.32020184   a =  3.0024796   b =  4.013728\n",
      "6600 error =  0.32020184   a =  3.0024796   b =  4.013728\n",
      "6700 error =  0.32020184   a =  3.0024796   b =  4.013728\n",
      "6800 error =  0.32020184   a =  3.0024796   b =  4.013728\n",
      "6900 error =  0.32020184   a =  3.0024796   b =  4.013728\n",
      "7000 error =  0.32020184   a =  3.0024796   b =  4.013728\n",
      "7100 error =  0.32020184   a =  3.0024796   b =  4.013728\n",
      "7200 error =  0.32020184   a =  3.0024796   b =  4.013728\n",
      "7300 error =  0.32020184   a =  3.0024796   b =  4.013728\n",
      "7400 error =  0.32020184   a =  3.0024796   b =  4.013728\n",
      "7500 error =  0.32020184   a =  3.0024796   b =  4.013728\n",
      "7600 error =  0.32020184   a =  3.0024796   b =  4.013728\n",
      "7700 error =  0.32020184   a =  3.0024796   b =  4.013728\n",
      "7800 error =  0.32020184   a =  3.0024796   b =  4.013728\n",
      "7900 error =  0.32020184   a =  3.0024796   b =  4.013728\n",
      "8000 error =  0.32020184   a =  3.0024796   b =  4.013728\n",
      "8100 error =  0.32020184   a =  3.0024796   b =  4.013728\n",
      "8200 error =  0.32020184   a =  3.0024796   b =  4.013728\n",
      "8300 error =  0.32020184   a =  3.0024796   b =  4.013728\n",
      "8400 error =  0.32020184   a =  3.0024796   b =  4.013728\n",
      "8500 error =  0.32020184   a =  3.0024796   b =  4.013728\n",
      "8600 error =  0.32020184   a =  3.0024796   b =  4.013728\n",
      "8700 error =  0.32020184   a =  3.0024796   b =  4.013728\n",
      "8800 error =  0.32020184   a =  3.0024796   b =  4.013728\n",
      "8900 error =  0.32020184   a =  3.0024796   b =  4.013728\n",
      "9000 error =  0.32020184   a =  3.0024796   b =  4.013728\n",
      "9100 error =  0.32020184   a =  3.0024796   b =  4.013728\n",
      "9200 error =  0.32020184   a =  3.0024796   b =  4.013728\n",
      "9300 error =  0.32020184   a =  3.0024796   b =  4.013728\n",
      "9400 error =  0.32020184   a =  3.0024796   b =  4.013728\n",
      "9500 error =  0.32020184   a =  3.0024796   b =  4.013728\n",
      "9600 error =  0.32020184   a =  3.0024796   b =  4.013728\n",
      "9700 error =  0.32020184   a =  3.0024796   b =  4.013728\n",
      "9800 error =  0.32020184   a =  3.0024796   b =  4.013728\n",
      "9900 error =  0.32020184   a =  3.0024796   b =  4.013728\n",
      "10000 error =  0.32020184   a =  3.0024796   b =  4.013728\n",
      "10100 error =  0.32020184   a =  3.0024796   b =  4.013728\n",
      "10200 error =  0.32020184   a =  3.0024796   b =  4.013728\n",
      "10300 error =  0.32020184   a =  3.0024796   b =  4.013728\n",
      "10400 error =  0.32020184   a =  3.0024796   b =  4.013728\n",
      "10500 error =  0.32020184   a =  3.0024796   b =  4.013728\n",
      "10600 error =  0.32020184   a =  3.0024796   b =  4.013728\n",
      "10700 error =  0.32020184   a =  3.0024796   b =  4.013728\n",
      "10800 error =  0.32020184   a =  3.0024796   b =  4.013728\n",
      "10900 error =  0.32020184   a =  3.0024796   b =  4.013728\n",
      "11000 error =  0.32020184   a =  3.0024796   b =  4.013728\n",
      "11100 error =  0.32020184   a =  3.0024796   b =  4.013728\n",
      "11200 error =  0.32020184   a =  3.0024796   b =  4.013728\n",
      "11300 error =  0.32020184   a =  3.0024796   b =  4.013728\n",
      "11400 error =  0.32020184   a =  3.0024796   b =  4.013728\n",
      "11500 error =  0.32020184   a =  3.0024796   b =  4.013728\n",
      "11600 error =  0.32020184   a =  3.0024796   b =  4.013728\n",
      "11700 error =  0.32020184   a =  3.0024796   b =  4.013728\n",
      "11800 error =  0.32020184   a =  3.0024796   b =  4.013728\n",
      "11900 error =  0.32020184   a =  3.0024796   b =  4.013728\n",
      "12000 error =  0.32020184   a =  3.0024796   b =  4.013728\n",
      "12100 error =  0.32020184   a =  3.0024796   b =  4.013728\n",
      "12200 error =  0.32020184   a =  3.0024796   b =  4.013728\n",
      "12300 error =  0.32020184   a =  3.0024796   b =  4.013728\n",
      "12400 error =  0.32020184   a =  3.0024796   b =  4.013728\n",
      "12500 error =  0.32020184   a =  3.0024796   b =  4.013728\n",
      "12600 error =  0.32020184   a =  3.0024796   b =  4.013728\n",
      "12700 error =  0.32020184   a =  3.0024796   b =  4.013728\n",
      "12800 error =  0.32020184   a =  3.0024796   b =  4.013728\n",
      "12900 error =  0.32020184   a =  3.0024796   b =  4.013728\n",
      "13000 error =  0.32020184   a =  3.0024796   b =  4.013728\n",
      "13100 error =  0.32020184   a =  3.0024796   b =  4.013728\n",
      "13200 error =  0.32020184   a =  3.0024796   b =  4.013728\n",
      "13300 error =  0.32020184   a =  3.0024796   b =  4.013728\n",
      "13400 error =  0.32020184   a =  3.0024796   b =  4.013728\n",
      "13500 error =  0.32020184   a =  3.0024796   b =  4.013728\n",
      "13600 error =  0.32020184   a =  3.0024796   b =  4.013728\n",
      "13700 error =  0.32020184   a =  3.0024796   b =  4.013728\n",
      "13800 error =  0.32020184   a =  3.0024796   b =  4.013728\n",
      "13900 error =  0.32020184   a =  3.0024796   b =  4.013728\n",
      "14000 error =  0.32020184   a =  3.0024796   b =  4.013728\n",
      "14100 error =  0.32020184   a =  3.0024796   b =  4.013728\n",
      "14200 error =  0.32020184   a =  3.0024796   b =  4.013728\n",
      "14300 error =  0.32020184   a =  3.0024796   b =  4.013728\n"
     ]
    },
    {
     "name": "stdout",
     "output_type": "stream",
     "text": [
      "14400 error =  0.32020184   a =  3.0024796   b =  4.013728\n",
      "14500 error =  0.32020184   a =  3.0024796   b =  4.013728\n",
      "14600 error =  0.32020184   a =  3.0024796   b =  4.013728\n",
      "14700 error =  0.32020184   a =  3.0024796   b =  4.013728\n",
      "14800 error =  0.32020184   a =  3.0024796   b =  4.013728\n",
      "14900 error =  0.32020184   a =  3.0024796   b =  4.013728\n",
      "15000 error =  0.32020184   a =  3.0024796   b =  4.013728\n",
      "15100 error =  0.32020184   a =  3.0024796   b =  4.013728\n",
      "15200 error =  0.32020184   a =  3.0024796   b =  4.013728\n",
      "15300 error =  0.32020184   a =  3.0024796   b =  4.013728\n",
      "15400 error =  0.32020184   a =  3.0024796   b =  4.013728\n",
      "15500 error =  0.32020184   a =  3.0024796   b =  4.013728\n",
      "15600 error =  0.32020184   a =  3.0024796   b =  4.013728\n",
      "15700 error =  0.32020184   a =  3.0024796   b =  4.013728\n",
      "15800 error =  0.32020184   a =  3.0024796   b =  4.013728\n",
      "15900 error =  0.32020184   a =  3.0024796   b =  4.013728\n",
      "16000 error =  0.32020184   a =  3.0024796   b =  4.013728\n",
      "16100 error =  0.32020184   a =  3.0024796   b =  4.013728\n",
      "16200 error =  0.32020184   a =  3.0024796   b =  4.013728\n",
      "16300 error =  0.32020184   a =  3.0024796   b =  4.013728\n",
      "16400 error =  0.32020184   a =  3.0024796   b =  4.013728\n",
      "16500 error =  0.32020184   a =  3.0024796   b =  4.013728\n",
      "16600 error =  0.32020184   a =  3.0024796   b =  4.013728\n",
      "16700 error =  0.32020184   a =  3.0024796   b =  4.013728\n",
      "16800 error =  0.32020184   a =  3.0024796   b =  4.013728\n",
      "16900 error =  0.32020184   a =  3.0024796   b =  4.013728\n",
      "17000 error =  0.32020184   a =  3.0024796   b =  4.013728\n",
      "17100 error =  0.32020184   a =  3.0024796   b =  4.013728\n",
      "17200 error =  0.32020184   a =  3.0024796   b =  4.013728\n",
      "17300 error =  0.32020184   a =  3.0024796   b =  4.013728\n",
      "17400 error =  0.32020184   a =  3.0024796   b =  4.013728\n",
      "17500 error =  0.32020184   a =  3.0024796   b =  4.013728\n",
      "17600 error =  0.32020184   a =  3.0024796   b =  4.013728\n",
      "17700 error =  0.32020184   a =  3.0024796   b =  4.013728\n",
      "17800 error =  0.32020184   a =  3.0024796   b =  4.013728\n",
      "17900 error =  0.32020184   a =  3.0024796   b =  4.013728\n",
      "18000 error =  0.32020184   a =  3.0024796   b =  4.013728\n",
      "18100 error =  0.32020184   a =  3.0024796   b =  4.013728\n",
      "18200 error =  0.32020184   a =  3.0024796   b =  4.013728\n",
      "18300 error =  0.32020184   a =  3.0024796   b =  4.013728\n",
      "18400 error =  0.32020184   a =  3.0024796   b =  4.013728\n",
      "18500 error =  0.32020184   a =  3.0024796   b =  4.013728\n",
      "18600 error =  0.32020184   a =  3.0024796   b =  4.013728\n",
      "18700 error =  0.32020184   a =  3.0024796   b =  4.013728\n",
      "18800 error =  0.32020184   a =  3.0024796   b =  4.013728\n",
      "18900 error =  0.32020184   a =  3.0024796   b =  4.013728\n",
      "19000 error =  0.32020184   a =  3.0024796   b =  4.013728\n",
      "19100 error =  0.32020184   a =  3.0024796   b =  4.013728\n",
      "19200 error =  0.32020184   a =  3.0024796   b =  4.013728\n",
      "19300 error =  0.32020184   a =  3.0024796   b =  4.013728\n",
      "19400 error =  0.32020184   a =  3.0024796   b =  4.013728\n",
      "19500 error =  0.32020184   a =  3.0024796   b =  4.013728\n",
      "19600 error =  0.32020184   a =  3.0024796   b =  4.013728\n",
      "19700 error =  0.32020184   a =  3.0024796   b =  4.013728\n",
      "19800 error =  0.32020184   a =  3.0024796   b =  4.013728\n",
      "19900 error =  0.32020184   a =  3.0024796   b =  4.013728\n",
      "20000 error =  0.32020184   a =  3.0024796   b =  4.013728\n",
      "20100 error =  0.32020184   a =  3.0024796   b =  4.013728\n",
      "20200 error =  0.32020184   a =  3.0024796   b =  4.013728\n",
      "20300 error =  0.32020184   a =  3.0024796   b =  4.013728\n",
      "20400 error =  0.32020184   a =  3.0024796   b =  4.013728\n",
      "20500 error =  0.32020184   a =  3.0024796   b =  4.013728\n",
      "20600 error =  0.32020184   a =  3.0024796   b =  4.013728\n",
      "20700 error =  0.32020184   a =  3.0024796   b =  4.013728\n",
      "20800 error =  0.32020184   a =  3.0024796   b =  4.013728\n",
      "20900 error =  0.32020184   a =  3.0024796   b =  4.013728\n",
      "21000 error =  0.32020184   a =  3.0024796   b =  4.013728\n",
      "21100 error =  0.32020184   a =  3.0024796   b =  4.013728\n",
      "21200 error =  0.32020184   a =  3.0024796   b =  4.013728\n",
      "21300 error =  0.32020184   a =  3.0024796   b =  4.013728\n",
      "21400 error =  0.32020184   a =  3.0024796   b =  4.013728\n",
      "21500 error =  0.32020184   a =  3.0024796   b =  4.013728\n",
      "21600 error =  0.32020184   a =  3.0024796   b =  4.013728\n",
      "21700 error =  0.32020184   a =  3.0024796   b =  4.013728\n",
      "21800 error =  0.32020184   a =  3.0024796   b =  4.013728\n",
      "21900 error =  0.32020184   a =  3.0024796   b =  4.013728\n",
      "22000 error =  0.32020184   a =  3.0024796   b =  4.013728\n",
      "22100 error =  0.32020184   a =  3.0024796   b =  4.013728\n",
      "22200 error =  0.32020184   a =  3.0024796   b =  4.013728\n",
      "22300 error =  0.32020184   a =  3.0024796   b =  4.013728\n",
      "22400 error =  0.32020184   a =  3.0024796   b =  4.013728\n",
      "22500 error =  0.32020184   a =  3.0024796   b =  4.013728\n",
      "22600 error =  0.32020184   a =  3.0024796   b =  4.013728\n",
      "22700 error =  0.32020184   a =  3.0024796   b =  4.013728\n",
      "22800 error =  0.32020184   a =  3.0024796   b =  4.013728\n",
      "22900 error =  0.32020184   a =  3.0024796   b =  4.013728\n",
      "23000 error =  0.32020184   a =  3.0024796   b =  4.013728\n",
      "23100 error =  0.32020184   a =  3.0024796   b =  4.013728\n",
      "23200 error =  0.32020184   a =  3.0024796   b =  4.013728\n",
      "23300 error =  0.32020184   a =  3.0024796   b =  4.013728\n",
      "23400 error =  0.32020184   a =  3.0024796   b =  4.013728\n",
      "23500 error =  0.32020184   a =  3.0024796   b =  4.013728\n",
      "23600 error =  0.32020184   a =  3.0024796   b =  4.013728\n",
      "23700 error =  0.32020184   a =  3.0024796   b =  4.013728\n",
      "23800 error =  0.32020184   a =  3.0024796   b =  4.013728\n",
      "23900 error =  0.32020184   a =  3.0024796   b =  4.013728\n",
      "24000 error =  0.32020184   a =  3.0024796   b =  4.013728\n",
      "24100 error =  0.32020184   a =  3.0024796   b =  4.013728\n",
      "24200 error =  0.32020184   a =  3.0024796   b =  4.013728\n",
      "24300 error =  0.32020184   a =  3.0024796   b =  4.013728\n",
      "24400 error =  0.32020184   a =  3.0024796   b =  4.013728\n",
      "24500 error =  0.32020184   a =  3.0024796   b =  4.013728\n",
      "24600 error =  0.32020184   a =  3.0024796   b =  4.013728\n",
      "24700 error =  0.32020184   a =  3.0024796   b =  4.013728\n",
      "24800 error =  0.32020184   a =  3.0024796   b =  4.013728\n",
      "24900 error =  0.32020184   a =  3.0024796   b =  4.013728\n",
      "25000 error =  0.32020184   a =  3.0024796   b =  4.013728\n",
      "25100 error =  0.32020184   a =  3.0024796   b =  4.013728\n",
      "25200 error =  0.32020184   a =  3.0024796   b =  4.013728\n",
      "25300 error =  0.32020184   a =  3.0024796   b =  4.013728\n",
      "25400 error =  0.32020184   a =  3.0024796   b =  4.013728\n",
      "25500 error =  0.32020184   a =  3.0024796   b =  4.013728\n",
      "25600 error =  0.32020184   a =  3.0024796   b =  4.013728\n",
      "25700 error =  0.32020184   a =  3.0024796   b =  4.013728\n",
      "25800 error =  0.32020184   a =  3.0024796   b =  4.013728\n",
      "25900 error =  0.32020184   a =  3.0024796   b =  4.013728\n",
      "26000 error =  0.32020184   a =  3.0024796   b =  4.013728\n",
      "26100 error =  0.32020184   a =  3.0024796   b =  4.013728\n",
      "26200 error =  0.32020184   a =  3.0024796   b =  4.013728\n",
      "26300 error =  0.32020184   a =  3.0024796   b =  4.013728\n",
      "26400 error =  0.32020184   a =  3.0024796   b =  4.013728\n",
      "26500 error =  0.32020184   a =  3.0024796   b =  4.013728\n",
      "26600 error =  0.32020184   a =  3.0024796   b =  4.013728\n",
      "26700 error =  0.32020184   a =  3.0024796   b =  4.013728\n",
      "26800 error =  0.32020184   a =  3.0024796   b =  4.013728\n",
      "26900 error =  0.32020184   a =  3.0024796   b =  4.013728\n",
      "27000 error =  0.32020184   a =  3.0024796   b =  4.013728\n",
      "27100 error =  0.32020184   a =  3.0024796   b =  4.013728\n",
      "27200 error =  0.32020184   a =  3.0024796   b =  4.013728\n",
      "27300 error =  0.32020184   a =  3.0024796   b =  4.013728\n",
      "27400 error =  0.32020184   a =  3.0024796   b =  4.013728\n",
      "27500 error =  0.32020184   a =  3.0024796   b =  4.013728\n",
      "27600 error =  0.32020184   a =  3.0024796   b =  4.013728\n",
      "27700 error =  0.32020184   a =  3.0024796   b =  4.013728\n",
      "27800 error =  0.32020184   a =  3.0024796   b =  4.013728\n",
      "27900 error =  0.32020184   a =  3.0024796   b =  4.013728\n",
      "28000 error =  0.32020184   a =  3.0024796   b =  4.013728\n",
      "28100 error =  0.32020184   a =  3.0024796   b =  4.013728\n",
      "28200 error =  0.32020184   a =  3.0024796   b =  4.013728\n",
      "28300 error =  0.32020184   a =  3.0024796   b =  4.013728\n",
      "28400 error =  0.32020184   a =  3.0024796   b =  4.013728\n",
      "28500 error =  0.32020184   a =  3.0024796   b =  4.013728\n",
      "28600 error =  0.32020184   a =  3.0024796   b =  4.013728\n",
      "28700 error =  0.32020184   a =  3.0024796   b =  4.013728\n",
      "28800 error =  0.32020184   a =  3.0024796   b =  4.013728\n"
     ]
    },
    {
     "name": "stdout",
     "output_type": "stream",
     "text": [
      "28900 error =  0.32020184   a =  3.0024796   b =  4.013728\n",
      "29000 error =  0.32020184   a =  3.0024796   b =  4.013728\n",
      "29100 error =  0.32020184   a =  3.0024796   b =  4.013728\n",
      "29200 error =  0.32020184   a =  3.0024796   b =  4.013728\n",
      "29300 error =  0.32020184   a =  3.0024796   b =  4.013728\n",
      "29400 error =  0.32020184   a =  3.0024796   b =  4.013728\n",
      "29500 error =  0.32020184   a =  3.0024796   b =  4.013728\n",
      "29600 error =  0.32020184   a =  3.0024796   b =  4.013728\n",
      "29700 error =  0.32020184   a =  3.0024796   b =  4.013728\n",
      "29800 error =  0.32020184   a =  3.0024796   b =  4.013728\n",
      "29900 error =  0.32020184   a =  3.0024796   b =  4.013728\n",
      "30000 error =  0.32020184   a =  3.0024796   b =  4.013728\n",
      "30100 error =  0.32020184   a =  3.0024796   b =  4.013728\n",
      "30200 error =  0.32020184   a =  3.0024796   b =  4.013728\n",
      "30300 error =  0.32020184   a =  3.0024796   b =  4.013728\n",
      "30400 error =  0.32020184   a =  3.0024796   b =  4.013728\n",
      "30500 error =  0.32020184   a =  3.0024796   b =  4.013728\n",
      "30600 error =  0.32020184   a =  3.0024796   b =  4.013728\n",
      "30700 error =  0.32020184   a =  3.0024796   b =  4.013728\n",
      "30800 error =  0.32020184   a =  3.0024796   b =  4.013728\n",
      "30900 error =  0.32020184   a =  3.0024796   b =  4.013728\n",
      "31000 error =  0.32020184   a =  3.0024796   b =  4.013728\n",
      "31100 error =  0.32020184   a =  3.0024796   b =  4.013728\n",
      "31200 error =  0.32020184   a =  3.0024796   b =  4.013728\n",
      "31300 error =  0.32020184   a =  3.0024796   b =  4.013728\n",
      "31400 error =  0.32020184   a =  3.0024796   b =  4.013728\n",
      "31500 error =  0.32020184   a =  3.0024796   b =  4.013728\n",
      "31600 error =  0.32020184   a =  3.0024796   b =  4.013728\n",
      "31700 error =  0.32020184   a =  3.0024796   b =  4.013728\n",
      "31800 error =  0.32020184   a =  3.0024796   b =  4.013728\n",
      "31900 error =  0.32020184   a =  3.0024796   b =  4.013728\n",
      "32000 error =  0.32020184   a =  3.0024796   b =  4.013728\n",
      "32100 error =  0.32020184   a =  3.0024796   b =  4.013728\n",
      "32200 error =  0.32020184   a =  3.0024796   b =  4.013728\n",
      "32300 error =  0.32020184   a =  3.0024796   b =  4.013728\n",
      "32400 error =  0.32020184   a =  3.0024796   b =  4.013728\n",
      "32500 error =  0.32020184   a =  3.0024796   b =  4.013728\n",
      "32600 error =  0.32020184   a =  3.0024796   b =  4.013728\n",
      "32700 error =  0.32020184   a =  3.0024796   b =  4.013728\n",
      "32800 error =  0.32020184   a =  3.0024796   b =  4.013728\n",
      "32900 error =  0.32020184   a =  3.0024796   b =  4.013728\n",
      "33000 error =  0.32020184   a =  3.0024796   b =  4.013728\n",
      "33100 error =  0.32020184   a =  3.0024796   b =  4.013728\n",
      "33200 error =  0.32020184   a =  3.0024796   b =  4.013728\n",
      "33300 error =  0.32020184   a =  3.0024796   b =  4.013728\n",
      "33400 error =  0.32020184   a =  3.0024796   b =  4.013728\n",
      "33500 error =  0.32020184   a =  3.0024796   b =  4.013728\n",
      "33600 error =  0.32020184   a =  3.0024796   b =  4.013728\n",
      "33700 error =  0.32020184   a =  3.0024796   b =  4.013728\n",
      "33800 error =  0.32020184   a =  3.0024796   b =  4.013728\n",
      "33900 error =  0.32020184   a =  3.0024796   b =  4.013728\n",
      "34000 error =  0.32020184   a =  3.0024796   b =  4.013728\n",
      "34100 error =  0.32020184   a =  3.0024796   b =  4.013728\n",
      "34200 error =  0.32020184   a =  3.0024796   b =  4.013728\n",
      "34300 error =  0.32020184   a =  3.0024796   b =  4.013728\n",
      "34400 error =  0.32020184   a =  3.0024796   b =  4.013728\n",
      "34500 error =  0.32020184   a =  3.0024796   b =  4.013728\n",
      "34600 error =  0.32020184   a =  3.0024796   b =  4.013728\n",
      "34700 error =  0.32020184   a =  3.0024796   b =  4.013728\n",
      "34800 error =  0.32020184   a =  3.0024796   b =  4.013728\n",
      "34900 error =  0.32020184   a =  3.0024796   b =  4.013728\n",
      "35000 error =  0.32020184   a =  3.0024796   b =  4.013728\n",
      "35100 error =  0.32020184   a =  3.0024796   b =  4.013728\n",
      "35200 error =  0.32020184   a =  3.0024796   b =  4.013728\n",
      "35300 error =  0.32020184   a =  3.0024796   b =  4.013728\n",
      "35400 error =  0.32020184   a =  3.0024796   b =  4.013728\n",
      "35500 error =  0.32020184   a =  3.0024796   b =  4.013728\n",
      "35600 error =  0.32020184   a =  3.0024796   b =  4.013728\n",
      "35700 error =  0.32020184   a =  3.0024796   b =  4.013728\n",
      "35800 error =  0.32020184   a =  3.0024796   b =  4.013728\n",
      "35900 error =  0.32020184   a =  3.0024796   b =  4.013728\n",
      "36000 error =  0.32020184   a =  3.0024796   b =  4.013728\n",
      "36100 error =  0.32020184   a =  3.0024796   b =  4.013728\n",
      "36200 error =  0.32020184   a =  3.0024796   b =  4.013728\n",
      "36300 error =  0.32020184   a =  3.0024796   b =  4.013728\n",
      "36400 error =  0.32020184   a =  3.0024796   b =  4.013728\n",
      "36500 error =  0.32020184   a =  3.0024796   b =  4.013728\n",
      "36600 error =  0.32020184   a =  3.0024796   b =  4.013728\n",
      "36700 error =  0.32020184   a =  3.0024796   b =  4.013728\n",
      "36800 error =  0.32020184   a =  3.0024796   b =  4.013728\n",
      "36900 error =  0.32020184   a =  3.0024796   b =  4.013728\n",
      "37000 error =  0.32020184   a =  3.0024796   b =  4.013728\n",
      "37100 error =  0.32020184   a =  3.0024796   b =  4.013728\n",
      "37200 error =  0.32020184   a =  3.0024796   b =  4.013728\n",
      "37300 error =  0.32020184   a =  3.0024796   b =  4.013728\n",
      "37400 error =  0.32020184   a =  3.0024796   b =  4.013728\n",
      "37500 error =  0.32020184   a =  3.0024796   b =  4.013728\n",
      "37600 error =  0.32020184   a =  3.0024796   b =  4.013728\n",
      "37700 error =  0.32020184   a =  3.0024796   b =  4.013728\n",
      "37800 error =  0.32020184   a =  3.0024796   b =  4.013728\n",
      "37900 error =  0.32020184   a =  3.0024796   b =  4.013728\n",
      "38000 error =  0.32020184   a =  3.0024796   b =  4.013728\n",
      "38100 error =  0.32020184   a =  3.0024796   b =  4.013728\n",
      "38200 error =  0.32020184   a =  3.0024796   b =  4.013728\n",
      "38300 error =  0.32020184   a =  3.0024796   b =  4.013728\n",
      "38400 error =  0.32020184   a =  3.0024796   b =  4.013728\n",
      "38500 error =  0.32020184   a =  3.0024796   b =  4.013728\n",
      "38600 error =  0.32020184   a =  3.0024796   b =  4.013728\n",
      "38700 error =  0.32020184   a =  3.0024796   b =  4.013728\n",
      "38800 error =  0.32020184   a =  3.0024796   b =  4.013728\n",
      "38900 error =  0.32020184   a =  3.0024796   b =  4.013728\n",
      "39000 error =  0.32020184   a =  3.0024796   b =  4.013728\n",
      "39100 error =  0.32020184   a =  3.0024796   b =  4.013728\n",
      "39200 error =  0.32020184   a =  3.0024796   b =  4.013728\n",
      "39300 error =  0.32020184   a =  3.0024796   b =  4.013728\n",
      "39400 error =  0.32020184   a =  3.0024796   b =  4.013728\n",
      "39500 error =  0.32020184   a =  3.0024796   b =  4.013728\n",
      "39600 error =  0.32020184   a =  3.0024796   b =  4.013728\n",
      "39700 error =  0.32020184   a =  3.0024796   b =  4.013728\n",
      "39800 error =  0.32020184   a =  3.0024796   b =  4.013728\n",
      "39900 error =  0.32020184   a =  3.0024796   b =  4.013728\n",
      "40000 error =  0.32020184   a =  3.0024796   b =  4.013728\n",
      "40100 error =  0.32020184   a =  3.0024796   b =  4.013728\n",
      "40200 error =  0.32020184   a =  3.0024796   b =  4.013728\n",
      "40300 error =  0.32020184   a =  3.0024796   b =  4.013728\n",
      "40400 error =  0.32020184   a =  3.0024796   b =  4.013728\n",
      "40500 error =  0.32020184   a =  3.0024796   b =  4.013728\n",
      "40600 error =  0.32020184   a =  3.0024796   b =  4.013728\n",
      "40700 error =  0.32020184   a =  3.0024796   b =  4.013728\n",
      "40800 error =  0.32020184   a =  3.0024796   b =  4.013728\n",
      "40900 error =  0.32020184   a =  3.0024796   b =  4.013728\n",
      "41000 error =  0.32020184   a =  3.0024796   b =  4.013728\n",
      "41100 error =  0.32020184   a =  3.0024796   b =  4.013728\n",
      "41200 error =  0.32020184   a =  3.0024796   b =  4.013728\n",
      "41300 error =  0.32020184   a =  3.0024796   b =  4.013728\n",
      "41400 error =  0.32020184   a =  3.0024796   b =  4.013728\n",
      "41500 error =  0.32020184   a =  3.0024796   b =  4.013728\n",
      "41600 error =  0.32020184   a =  3.0024796   b =  4.013728\n",
      "41700 error =  0.32020184   a =  3.0024796   b =  4.013728\n",
      "41800 error =  0.32020184   a =  3.0024796   b =  4.013728\n",
      "41900 error =  0.32020184   a =  3.0024796   b =  4.013728\n",
      "42000 error =  0.32020184   a =  3.0024796   b =  4.013728\n",
      "42100 error =  0.32020184   a =  3.0024796   b =  4.013728\n",
      "42200 error =  0.32020184   a =  3.0024796   b =  4.013728\n",
      "42300 error =  0.32020184   a =  3.0024796   b =  4.013728\n",
      "42400 error =  0.32020184   a =  3.0024796   b =  4.013728\n",
      "42500 error =  0.32020184   a =  3.0024796   b =  4.013728\n",
      "42600 error =  0.32020184   a =  3.0024796   b =  4.013728\n",
      "42700 error =  0.32020184   a =  3.0024796   b =  4.013728\n",
      "42800 error =  0.32020184   a =  3.0024796   b =  4.013728\n",
      "42900 error =  0.32020184   a =  3.0024796   b =  4.013728\n",
      "43000 error =  0.32020184   a =  3.0024796   b =  4.013728\n",
      "43100 error =  0.32020184   a =  3.0024796   b =  4.013728\n",
      "43200 error =  0.32020184   a =  3.0024796   b =  4.013728\n",
      "43300 error =  0.32020184   a =  3.0024796   b =  4.013728\n",
      "43400 error =  0.32020184   a =  3.0024796   b =  4.013728\n",
      "43500 error =  0.32020184   a =  3.0024796   b =  4.013728\n"
     ]
    },
    {
     "name": "stdout",
     "output_type": "stream",
     "text": [
      "43600 error =  0.32020184   a =  3.0024796   b =  4.013728\n",
      "43700 error =  0.32020184   a =  3.0024796   b =  4.013728\n",
      "43800 error =  0.32020184   a =  3.0024796   b =  4.013728\n",
      "43900 error =  0.32020184   a =  3.0024796   b =  4.013728\n",
      "44000 error =  0.32020184   a =  3.0024796   b =  4.013728\n",
      "44100 error =  0.32020184   a =  3.0024796   b =  4.013728\n",
      "44200 error =  0.32020184   a =  3.0024796   b =  4.013728\n",
      "44300 error =  0.32020184   a =  3.0024796   b =  4.013728\n",
      "44400 error =  0.32020184   a =  3.0024796   b =  4.013728\n",
      "44500 error =  0.32020184   a =  3.0024796   b =  4.013728\n",
      "44600 error =  0.32020184   a =  3.0024796   b =  4.013728\n",
      "44700 error =  0.32020184   a =  3.0024796   b =  4.013728\n",
      "44800 error =  0.32020184   a =  3.0024796   b =  4.013728\n",
      "44900 error =  0.32020184   a =  3.0024796   b =  4.013728\n",
      "45000 error =  0.32020184   a =  3.0024796   b =  4.013728\n",
      "45100 error =  0.32020184   a =  3.0024796   b =  4.013728\n",
      "45200 error =  0.32020184   a =  3.0024796   b =  4.013728\n",
      "45300 error =  0.32020184   a =  3.0024796   b =  4.013728\n",
      "45400 error =  0.32020184   a =  3.0024796   b =  4.013728\n",
      "45500 error =  0.32020184   a =  3.0024796   b =  4.013728\n",
      "45600 error =  0.32020184   a =  3.0024796   b =  4.013728\n",
      "45700 error =  0.32020184   a =  3.0024796   b =  4.013728\n",
      "45800 error =  0.32020184   a =  3.0024796   b =  4.013728\n",
      "45900 error =  0.32020184   a =  3.0024796   b =  4.013728\n",
      "46000 error =  0.32020184   a =  3.0024796   b =  4.013728\n",
      "46100 error =  0.32020184   a =  3.0024796   b =  4.013728\n",
      "46200 error =  0.32020184   a =  3.0024796   b =  4.013728\n",
      "46300 error =  0.32020184   a =  3.0024796   b =  4.013728\n",
      "46400 error =  0.32020184   a =  3.0024796   b =  4.013728\n",
      "46500 error =  0.32020184   a =  3.0024796   b =  4.013728\n",
      "46600 error =  0.32020184   a =  3.0024796   b =  4.013728\n",
      "46700 error =  0.32020184   a =  3.0024796   b =  4.013728\n",
      "46800 error =  0.32020184   a =  3.0024796   b =  4.013728\n",
      "46900 error =  0.32020184   a =  3.0024796   b =  4.013728\n",
      "47000 error =  0.32020184   a =  3.0024796   b =  4.013728\n",
      "47100 error =  0.32020184   a =  3.0024796   b =  4.013728\n",
      "47200 error =  0.32020184   a =  3.0024796   b =  4.013728\n",
      "47300 error =  0.32020184   a =  3.0024796   b =  4.013728\n",
      "47400 error =  0.32020184   a =  3.0024796   b =  4.013728\n",
      "47500 error =  0.32020184   a =  3.0024796   b =  4.013728\n",
      "47600 error =  0.32020184   a =  3.0024796   b =  4.013728\n",
      "47700 error =  0.32020184   a =  3.0024796   b =  4.013728\n",
      "47800 error =  0.32020184   a =  3.0024796   b =  4.013728\n",
      "47900 error =  0.32020184   a =  3.0024796   b =  4.013728\n",
      "48000 error =  0.32020184   a =  3.0024796   b =  4.013728\n",
      "48100 error =  0.32020184   a =  3.0024796   b =  4.013728\n",
      "48200 error =  0.32020184   a =  3.0024796   b =  4.013728\n",
      "48300 error =  0.32020184   a =  3.0024796   b =  4.013728\n",
      "48400 error =  0.32020184   a =  3.0024796   b =  4.013728\n",
      "48500 error =  0.32020184   a =  3.0024796   b =  4.013728\n",
      "48600 error =  0.32020184   a =  3.0024796   b =  4.013728\n",
      "48700 error =  0.32020184   a =  3.0024796   b =  4.013728\n",
      "48800 error =  0.32020184   a =  3.0024796   b =  4.013728\n",
      "48900 error =  0.32020184   a =  3.0024796   b =  4.013728\n",
      "49000 error =  0.32020184   a =  3.0024796   b =  4.013728\n",
      "49100 error =  0.32020184   a =  3.0024796   b =  4.013728\n",
      "49200 error =  0.32020184   a =  3.0024796   b =  4.013728\n",
      "49300 error =  0.32020184   a =  3.0024796   b =  4.013728\n",
      "49400 error =  0.32020184   a =  3.0024796   b =  4.013728\n",
      "49500 error =  0.32020184   a =  3.0024796   b =  4.013728\n",
      "49600 error =  0.32020184   a =  3.0024796   b =  4.013728\n",
      "49700 error =  0.32020184   a =  3.0024796   b =  4.013728\n",
      "49800 error =  0.32020184   a =  3.0024796   b =  4.013728\n",
      "49900 error =  0.32020184   a =  3.0024796   b =  4.013728\n"
     ]
    }
   ],
   "source": [
    "for i in range(0,  training_epoch):\n",
    "    sess.run(model, feed_dict={x: x_input, y: y_true})\n",
    "    if ((i % display_step) == 0):\n",
    "        error_out = sess.run(error, feed_dict={x: x_input, y: y_true})\n",
    "        a_out = sess.run(a, feed_dict={x: x_input, y: y_true})\n",
    "        b_out = sess.run(b, feed_dict={x: x_input, y: y_true})\n",
    "        print(i, \"error = \", error_out, \"  a = \", a_out, \"  b = \", b_out)"
   ]
  },
  {
   "cell_type": "code",
   "execution_count": null,
   "metadata": {},
   "outputs": [],
   "source": []
  }
 ],
 "metadata": {
  "kernelspec": {
   "display_name": "Python 3",
   "language": "python",
   "name": "python3"
  },
  "language_info": {
   "codemirror_mode": {
    "name": "ipython",
    "version": 3
   },
   "file_extension": ".py",
   "mimetype": "text/x-python",
   "name": "python",
   "nbconvert_exporter": "python",
   "pygments_lexer": "ipython3",
   "version": "3.8.3"
  }
 },
 "nbformat": 4,
 "nbformat_minor": 4
}
